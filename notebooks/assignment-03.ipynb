{
 "cells": [
  {
   "cell_type": "markdown",
   "metadata": {},
   "source": [
    "## Úkol 3\n",
    "\n",
    "[![Open In Colab](https://colab.research.google.com/assets/colab-badge.svg)](https://colab.research.google.com/github/shippy/czechitas-ai-data/blob/main/notebooks/assignment-03.ipynb)\n",
    "\n",
    "\n",
    "### Nastavte si API klíč\n",
    "\n",
    "1. Navštivte [OpenAI API Dashboard](https://platform.openai.com/api-keys) a vytvořte si API klíč.\n",
    "2. V levé liště klikněte na tlačítko \"Secrets\" a přidejte předtím vytvořený API klíč do proměnné `GOOGLE_API_KEY` - buď \"napřímo\" přes \"+ Add new secret\", nebo přes \"Gemini API keys\" > \"Import key from Google AI Studio\".\n",
    "\n",
    "(Pokud jste otevřeli tento notebook lokálně, např. ve VSCode, můžete si API klíč nastavit v souboru `.env` - viz README k tomuto repozitáři.)\n",
    "\n",
    "### Setup a test\n",
    "\n",
    "Spusťte následující dvě buňky. Pokud vám AI řekne, jak se má, vše funguje správně."
   ]
  },
  {
   "cell_type": "code",
   "execution_count": 1,
   "metadata": {},
   "outputs": [],
   "source": [
    "try:\n",
    "    from google.colab import userdata\n",
    "    _secret = userdata.get(\"OPENAI_API_KEY\")\n",
    "    %pip install instructor openai python-dotenv rich\n",
    "except ImportError:\n",
    "    import os\n",
    "    from dotenv import load_dotenv\n",
    "    _ = load_dotenv()\n",
    "    _secret = os.environ.get(\"OPENAI_API_KEY\")"
   ]
  },
  {
   "cell_type": "code",
   "execution_count": null,
   "metadata": {},
   "outputs": [],
   "source": [
    "import instructor\n",
    "from openai import OpenAI\n",
    "import os\n",
    "from rich import print\n",
    "\n",
    "try:\n",
    "    if not _secret:\n",
    "        raise ValueError(\"API klíč nebyl nastaven!\")\n",
    "except NameError:\n",
    "    print(\"Nastavte si API klíč v proměnné GOOGLE_API_KEY a znovu spusťte *celý* notebook včetně předchozí buňky\")\n",
    "\n",
    "_client = OpenAI()\n",
    "client = instructor.from_openai(_client)\n",
    "test = client.chat.completions.create(\n",
    "    messages=[\n",
    "        {\"role\": \"user\", \"content\": \"Hello, how are you? Respond with an emotion.\"},\n",
    "    ],\n",
    "    model=\"gpt-4o\",\n",
    "    response_model=str,\n",
    ")\n",
    "print(test)\n"
   ]
  },
  {
   "cell_type": "markdown",
   "metadata": {},
   "source": [
    "### Úkol, část 1\n",
    "\n",
    "Vytáhněte ze nestrukturovaných odpovědí níže definované datové struktury."
   ]
  },
  {
   "cell_type": "code",
   "execution_count": null,
   "metadata": {},
   "outputs": [],
   "source": [
    "from pydantic import BaseModel, Field\n",
    "from typing import Literal\n",
    "\n",
    "Occupation = Literal[\"gardener\", \"teacher\", \"doctor\", \"engineer\", \"lawyer\", \"scientist\", \"artist\", \"writer\", \"pensioner\", \"other\"]\n",
    "\n",
    "class Citizen(BaseModel):\n",
    "    name: str = Field(..., description=\"Full name of the citizen\")\n",
    "    age: int\n",
    "    occupation: Occupation\n",
    "    interests: list[str]"
   ]
  },
  {
   "cell_type": "code",
   "execution_count": 8,
   "metadata": {},
   "outputs": [],
   "source": [
    "census_responses = [\n",
    "    \"Jsem osmadvacetiletý Honza Pálka, pracuju v Semilhotce jako čistič kanálů. Rád hraju šachy a na bicí.\",\n",
    "    \"Jsem Jana Nováková, je mi 30, dojíždím do Semilhotské školy učit. Ráda čtu knihy a jezdím na hory.\",\n",
    "    \"Jsem čtyřicetiletý Petr Válek, pracuju v Semilhotce jako zedník. Rád cestuji a hraju fotbal.\",\n",
    "    \"Jsem padesátiletý Vladimír Dvořák, pracuju v Semilhotce jako policista. Rád cestuji a hraju kulečník.\",\n",
    "    \"Jsem šedesátiletý Jaroslav Bílek, pracuju v Semilhotce jako zahradník. Rád cestuji a hraju kulečník.\",\n",
    "    \"Jsem sedmdesátiletý Karel Dvořák, pracuju v Semilhotce jako zedník. Rád cestuji a hraju kulečník.\",\n",
    "    \"Jsem osmdesátiletý Josef Novák, pracuju v Semilhotce jako inženýr. Rád cestuji a hraju kulečník.\",\n",
    "    \"Jsem devadesátiletý Igor Hnízdo, jsem tu penzista. Rád cestuji a hraju kulečník.\",\n",
    "]\n"
   ]
  },
  {
   "cell_type": "markdown",
   "metadata": {},
   "source": [
    "- Tip 1: můžete použít i prompt engineering (tj. první message s `\"role\": \"system\"`), aby AI lépe poznala, co chcete.\n",
    "- Tip 2: `client.chat.completions.create` umí vracet i `response_model=Citizen` nebo i `response_model=list[Citizen]`\n",
    "\n",
    "Dávalo by smysl na základě dat přidefinovat do třídy `Citizen` nějaký atribut, abyste zachytili více informací?"
   ]
  },
  {
   "cell_type": "code",
   "execution_count": null,
   "metadata": {},
   "outputs": [],
   "source": [
    "# Zde řešte úkol 1. (Můžete si vytvořit i více buněk!)"
   ]
  },
  {
   "cell_type": "markdown",
   "metadata": {},
   "source": [
    "### Úkol, část 2\n",
    "\n",
    "Vygenerujte dataset nebo sadu datasetů, který popíše fiktivní městečko Semilhotka. Začněte např. s datovou strukturou `Citizen` následovně:"
   ]
  },
  {
   "cell_type": "code",
   "execution_count": null,
   "metadata": {},
   "outputs": [],
   "source": [
    "\n",
    "# A vygenerujeme nějaké obyvatele\n",
    "citizens = client.chat.completions.create(\n",
    "    messages=[\n",
    "        {\"role\": \"user\", \"content\": \"Generate 10 citizens of Semilhotka.\"},\n",
    "    ],\n",
    "    model=\"gpt-4o\",\n",
    "    response_model=list[Citizen],\n",
    ")\n",
    "print(citizens)"
   ]
  },
  {
   "cell_type": "markdown",
   "metadata": {},
   "source": [
    "Ideálně bychom chtěli, aby výčet kulminoval objektem Semilhotka:\n",
    "\n",
    "```python\n",
    "from pydantic import BaseModel\n",
    "\n",
    "class Semilhotka(BaseModel):\n",
    "    citizens: list[Citizen]\n",
    "    # a další atributy\n",
    "\n",
    "my_semilhotka = Semilhotka(\n",
    "    citizens=citizens,\n",
    "    # a další proměnné, které jste si vygenerovali\n",
    ")\n",
    "```"
   ]
  },
  {
   "cell_type": "code",
   "execution_count": null,
   "metadata": {},
   "outputs": [],
   "source": [
    "# Zde řešte úkol 2. (Můžete si vytvořit i více buněk!)"
   ]
  },
  {
   "cell_type": "markdown",
   "metadata": {},
   "source": [
    "## Export dat\n",
    "\n",
    "Pro jednoduchost si vaši vesnici exportujeme jako Python pickle soubor. Ten si potom z levého panelu můžete stáhnout a použít v jiném notebooku (jste-li  v Colabu)."
   ]
  },
  {
   "cell_type": "code",
   "execution_count": null,
   "metadata": {},
   "outputs": [],
   "source": [
    "from pickle import dump\n",
    "\n",
    "try:\n",
    "    if my_semilhotka:\n",
    "        with open(\"semilhotka.pkl\", \"wb\") as f:\n",
    "            dump(my_semilhotka, f)\n",
    "except NameError:\n",
    "    raise ValueError(\"Musíte si nejdříve nadefinovat Semilhotku a přiřadit ji do proménně!\")\n"
   ]
  }
 ],
 "metadata": {
  "kernelspec": {
   "display_name": ".venv",
   "language": "python",
   "name": "python3"
  },
  "language_info": {
   "codemirror_mode": {
    "name": "ipython",
    "version": 3
   },
   "file_extension": ".py",
   "mimetype": "text/x-python",
   "name": "python",
   "nbconvert_exporter": "python",
   "pygments_lexer": "ipython3",
   "version": "3.13.3"
  }
 },
 "nbformat": 4,
 "nbformat_minor": 2
}
