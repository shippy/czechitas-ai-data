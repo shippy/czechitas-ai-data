{
 "cells": [
  {
   "cell_type": "markdown",
   "metadata": {},
   "source": [
    "## Základní připojení k API\n",
    "\n",
    "### Zkopírujte si tento notebook do svého Google Drive\n",
    "\n",
    "### Nastavte si API klíč"
   ]
  },
  {
   "cell_type": "code",
   "execution_count": 3,
   "metadata": {},
   "outputs": [],
   "source": [
    "try:\n",
    "    from google.colab import userdata\n",
    "    _secret = userdata.get(\"GOOGLE_API_KEY\")\n",
    "    !pip install instructor google-generativeai python-dotenv\n",
    "except ImportError:\n",
    "    import os\n",
    "    from dotenv import load_dotenv\n",
    "    _ = load_dotenv()\n",
    "    _secret = os.environ.get(\"GOOGLE_API_KEY\")"
   ]
  },
  {
   "cell_type": "code",
   "execution_count": null,
   "metadata": {},
   "outputs": [],
   "source": [
    "import instructor\n",
    "import google.generativeai as genai\n",
    "import os\n",
    "\n",
    "try:\n",
    "    genai.configure(api_key=_secret)\n",
    "except KeyError:\n",
    "    print(\"Nastavte si API klíč v proměnné GOOGLE_API_KEY a znovu spusťte notebook\")\n",
    "\n",
    "client = instructor.from_gemini(\n",
    "    client=genai.GenerativeModel(\n",
    "        model_name=\"models/gemini-1.5-flash-latest\",\n",
    "    ),\n",
    "    mode=instructor.Mode.GEMINI_JSON,\n",
    ")\n",
    "test = client.chat.completions.create(\n",
    "    messages=[\n",
    "        {\"role\": \"user\", \"content\": \"Hello, how are you?\"},\n",
    "    ],\n",
    "    response_model=str,\n",
    ")\n",
    "print(test)\n"
   ]
  },
  {
   "cell_type": "code",
   "execution_count": null,
   "metadata": {},
   "outputs": [],
   "source": []
  }
 ],
 "metadata": {
  "kernelspec": {
   "display_name": ".venv",
   "language": "python",
   "name": "python3"
  },
  "language_info": {
   "codemirror_mode": {
    "name": "ipython",
    "version": 3
   },
   "file_extension": ".py",
   "mimetype": "text/x-python",
   "name": "python",
   "nbconvert_exporter": "python",
   "pygments_lexer": "ipython3",
   "version": "3.13.0"
  }
 },
 "nbformat": 4,
 "nbformat_minor": 2
}
