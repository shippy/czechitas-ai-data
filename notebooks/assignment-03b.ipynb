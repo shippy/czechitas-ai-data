{
 "cells": [
  {
   "cell_type": "markdown",
   "metadata": {},
   "source": [
    "# Úkol 3b\n",
    "\n",
    "[![Open In Colab](https://colab.research.google.com/assets/colab-badge.svg)](https://colab.research.google.com/github/shippy/czechitas-ai-data/blob/main/notebooks/assignment-03b.ipynb)\n",
    "\n",
    "Pokud nebudete vědět, nezapomeňte se zeptat [pomocníčka pro tento úkol](https://chatgpt.com/g/g-67cab661ae5c8191b0d8419c76d3959b-czechitas-ai-in-data-analytics-2025-03)!\n",
    "\n",
    "## Analýza článků v časopisu Guardian\n",
    "\n",
    "V tomto notebooku se budeme věnovat zpracování nestrukturovaných dat, které jsou náhodně zvolenou podmnožinou [většího datasetu z Kaggle](https://www.kaggle.com/datasets/adityakharosekar2/guardian-news-articles?resource=download)."
   ]
  },
  {
   "cell_type": "markdown",
   "metadata": {},
   "source": [
    "Nejprve nastavíme klienta pro OpenAI API. Toto nastavení se bude lišit v závislosti na tom, zda používáte Google Colab nebo spouštíte notebook na vlastním počítači, ale pokud následující dvě buňky proběhnou bez chyby, jste připraveni pokračovat."
   ]
  },
  {
   "cell_type": "code",
   "execution_count": 1,
   "metadata": {},
   "outputs": [],
   "source": [
    "try:\n",
    "    from google.colab import userdata\n",
    "    _secret = userdata.get(\"OPENAI_API_KEY\")\n",
    "    %pip install pandas instructor openai python-dotenv rich\n",
    "    !curl https://raw.githubusercontent.com/shippy/czechitas-ai-data/refs/heads/main/notebooks/guardian_100.csv\n",
    "except ImportError:\n",
    "    import os\n",
    "    from dotenv import load_dotenv\n",
    "    _ = load_dotenv()\n",
    "    _secret = os.environ.get(\"OPENAI_API_KEY\")"
   ]
  },
  {
   "cell_type": "code",
   "execution_count": null,
   "metadata": {},
   "outputs": [],
   "source": [
    "import instructor\n",
    "from openai import OpenAI\n",
    "from rich import print\n",
    "\n",
    "try:\n",
    "    if not _secret:\n",
    "        raise ValueError(\"API klíč nebyl nastaven!\")\n",
    "except NameError:\n",
    "    print(\"Nastavte si API klíč v proměnné OPENAI_API_KEY a znovu spusťte *celý* notebook včetně předchozí buňky\")\n",
    "\n",
    "_client = OpenAI(api_key=_secret)\n",
    "client = instructor.from_openai(_client)\n",
    "test = client.chat.completions.create(\n",
    "    messages=[\n",
    "        {\"role\": \"user\", \"content\": \"Hello, how are you? Respond with an emotion.\"},\n",
    "    ],\n",
    "    model=\"gpt-4o\",\n",
    "    response_model=str,\n",
    ")\n",
    "print(test)\n"
   ]
  },
  {
   "cell_type": "markdown",
   "metadata": {},
   "source": [
    "## Čtení dat"
   ]
  },
  {
   "cell_type": "code",
   "execution_count": null,
   "metadata": {},
   "outputs": [],
   "source": [
    "import pandas as pd\n",
    "\n",
    "data = pd.read_csv('guardian_100.csv')\n",
    "print(data.shape)\n",
    "data.head()\n"
   ]
  },
  {
   "cell_type": "markdown",
   "metadata": {},
   "source": [
    "## Úkoly\n",
    "\n",
    "1. Vytvořte a implementujte prompt, který shrne každý z článků do jedné věty.\n",
    "2. Vytvořte prompt, který z textu článku vytvoří strukturovaný výstup, ve kterém bude uvedeno, jakých lidí/entit se týká, do jaké z předdefinovaných kategorií (`data['sectionName'].unique().tolist()`) spadá, a jak urgentní popisuje situaci. Uložte tuto strukturu do nového sloupce `data['structured_output']`.\n",
    "3. Udělejte graf častosti výskytu jednotlivých kategorií a jednotlivých entit. (Fantazii se meze nekladou - prodiskutujte to s pomocníčkem.)\n",
    "4. Porovnejte výsledky klasifikace s původním sloupcem `data['sectionName']`. Jak velké úspěšnosti jste dosáhly?\n",
    "\n",
    "## Ukázka"
   ]
  },
  {
   "cell_type": "code",
   "execution_count": null,
   "metadata": {},
   "outputs": [],
   "source": [
    "example = data[0:2]\n",
    "outputs = []\n",
    "for i, row in example.iterrows():\n",
    "    print('Headline: ', row['webTitle'])\n",
    "    output = client.chat.completions.create(\n",
    "        messages=[\n",
    "            {\"role\": \"system\", \"content\": \"You are a helpful assistant that summarizes news articles down to exactly one sentence.\"},\n",
    "            {\"role\": \"user\", \"content\": row['bodyContent']},\n",
    "        ],\n",
    "        model=\"gpt-4o\",\n",
    "        response_model=str,\n",
    "    )\n",
    "    print('One-sentence summary: ', output)\n",
    "    outputs.append(output)\n"
   ]
  },
  {
   "cell_type": "markdown",
   "metadata": {},
   "source": [
    "## Úkol 1\n",
    "\n",
    "Shrňte každý článek do jedné věty."
   ]
  },
  {
   "cell_type": "code",
   "execution_count": null,
   "metadata": {},
   "outputs": [],
   "source": [
    "summaries = []\n",
    "for idx, row in data.iterrows():\n",
    "    summary = ...  # tohle nahraďte správným kódem\n",
    "    summaries.append(summary)\n",
    "\n",
    "# data['oneSentenceSummary'] = summaries"
   ]
  },
  {
   "cell_type": "markdown",
   "metadata": {},
   "source": [
    "## Úkol 2\n",
    "\n",
    "Vytvořte prompt, který z textu článku vytvoří strukturovaný výstup, ve kterém bude uvedeno, jakých lidí/entit se týká, do jaké z předdefinovaných kategorií (`data['sectionName'].unique().tolist()`) spadá, a jak urgentní popisuje situaci. Uložte tuto strukturu do nového sloupce `data['structured_output']`."
   ]
  },
  {
   "cell_type": "code",
   "execution_count": 5,
   "metadata": {},
   "outputs": [],
   "source": [
    "from enum import Enum\n",
    "from pydantic import BaseModel\n",
    "\n",
    "def create_enum(name: str, values: list[str]) -> Enum:\n",
    "    return Enum(name, {v.upper(): v for v in values})\n",
    "\n",
    "CategoryEnum = create_enum('CategoryEnum', data['sectionName'].unique().tolist())\n",
    "\n",
    "class ArticleSummary(BaseModel):\n",
    "    summary: str\n",
    "    entities: list[str]\n",
    "    category: CategoryEnum\n",
    "    urgency: int\n",
    "\n",
    "\n",
    "outputs = []\n",
    "\n",
    "for idx, row in data.iterrows():\n",
    "    output = ...  # tohle nahraďte správným kódem\n",
    "    outputs.append(output)\n",
    "\n",
    "# data['structured_output'] = outputs\n",
    "\n",
    "\n"
   ]
  },
  {
   "cell_type": "markdown",
   "metadata": {},
   "source": []
  }
 ],
 "metadata": {
  "kernelspec": {
   "display_name": ".venv",
   "language": "python",
   "name": "python3"
  },
  "language_info": {
   "codemirror_mode": {
    "name": "ipython",
    "version": 3
   },
   "file_extension": ".py",
   "mimetype": "text/x-python",
   "name": "python",
   "nbconvert_exporter": "python",
   "pygments_lexer": "ipython3",
   "version": "3.13.3"
  }
 },
 "nbformat": 4,
 "nbformat_minor": 2
}
