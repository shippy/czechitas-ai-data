{
 "cells": [
  {
   "cell_type": "markdown",
   "metadata": {},
   "source": [
    "## Analýza článků v časopisu Guardian\n",
    "\n",
    "V tomto notebooku se budeme věnovat zpracování nestrukturovaných dat, které jsou náhodně zvolenou podmnožinou [většího datasetu z Kaggle](https://www.kaggle.com/datasets/adityakharosekar2/guardian-news-articles?resource=download)."
   ]
  },
  {
   "cell_type": "markdown",
   "metadata": {},
   "source": [
    "Nejprve nastavíme klienta pro OpenAI API. Toto nastavení se bude lišit v závislosti na tom, zda používáte Google Colab nebo spouštíte notebook na vlastním počítači, ale pokud následující dvě buňky proběhnou bez chyby, jste připraveni pokračovat."
   ]
  },
  {
   "cell_type": "code",
   "execution_count": 4,
   "metadata": {},
   "outputs": [],
   "source": [
    "try:\n",
    "    from google.colab import userdata\n",
    "    _secret = userdata.get(\"OPENAI_API_KEY\")\n",
    "    %pip install pandas instructor openai python-dotenv rich\n",
    "except ImportError:\n",
    "    import os\n",
    "    from dotenv import load_dotenv\n",
    "    _ = load_dotenv()\n",
    "    _secret = os.environ.get(\"OPENAI_API_KEY\")"
   ]
  },
  {
   "cell_type": "code",
   "execution_count": 5,
   "metadata": {},
   "outputs": [
    {
     "name": "stderr",
     "output_type": "stream",
     "text": [
      "/Users/simon/Documents/czechitas-ai-data/.venv/lib/python3.13/site-packages/tqdm/auto.py:21: TqdmWarning: IProgress not found. Please update jupyter and ipywidgets. See https://ipywidgets.readthedocs.io/en/stable/user_install.html\n",
      "  from .autonotebook import tqdm as notebook_tqdm\n"
     ]
    },
    {
     "data": {
      "text/html": [
       "<pre style=\"white-space:pre;overflow-x:auto;line-height:normal;font-family:Menlo,'DejaVu Sans Mono',consolas,'Courier New',monospace\">I'm feeling curious and ready to help you with any questions or tasks you have! How can I assist you today?\n",
       "</pre>\n"
      ],
      "text/plain": [
       "I'm feeling curious and ready to help you with any questions or tasks you have! How can I assist you today?\n"
      ]
     },
     "metadata": {},
     "output_type": "display_data"
    }
   ],
   "source": [
    "import instructor\n",
    "from openai import OpenAI\n",
    "import os\n",
    "from rich import print\n",
    "\n",
    "try:\n",
    "    if not _secret:\n",
    "        raise ValueError(\"API klíč nebyl nastaven!\")\n",
    "except NameError:\n",
    "    print(\"Nastavte si API klíč v proměnné GOOGLE_API_KEY a znovu spusťte *celý* notebook včetně předchozí buňky\")\n",
    "\n",
    "_client = OpenAI()\n",
    "client = instructor.from_openai(_client)\n",
    "test = client.chat.completions.create(\n",
    "    messages=[\n",
    "        {\"role\": \"user\", \"content\": \"Hello, how are you? Respond with an emotion.\"},\n",
    "    ],\n",
    "    model=\"gpt-4o\",\n",
    "    response_model=str,\n",
    ")\n",
    "print(test)\n"
   ]
  },
  {
   "cell_type": "markdown",
   "metadata": {},
   "source": [
    "## Čtení dat"
   ]
  },
  {
   "cell_type": "code",
   "execution_count": 7,
   "metadata": {},
   "outputs": [
    {
     "data": {
      "text/html": [
       "<pre style=\"white-space:pre;overflow-x:auto;line-height:normal;font-family:Menlo,'DejaVu Sans Mono',consolas,'Courier New',monospace\"><span style=\"font-weight: bold\">(</span><span style=\"color: #008080; text-decoration-color: #008080; font-weight: bold\">100</span>, <span style=\"color: #008080; text-decoration-color: #008080; font-weight: bold\">7</span><span style=\"font-weight: bold\">)</span>\n",
       "</pre>\n"
      ],
      "text/plain": [
       "\u001b[1m(\u001b[0m\u001b[1;36m100\u001b[0m, \u001b[1;36m7\u001b[0m\u001b[1m)\u001b[0m\n"
      ]
     },
     "metadata": {},
     "output_type": "display_data"
    },
    {
     "data": {
      "text/html": [
       "<div>\n",
       "<style scoped>\n",
       "    .dataframe tbody tr th:only-of-type {\n",
       "        vertical-align: middle;\n",
       "    }\n",
       "\n",
       "    .dataframe tbody tr th {\n",
       "        vertical-align: top;\n",
       "    }\n",
       "\n",
       "    .dataframe thead th {\n",
       "        text-align: right;\n",
       "    }\n",
       "</style>\n",
       "<table border=\"1\" class=\"dataframe\">\n",
       "  <thead>\n",
       "    <tr style=\"text-align: right;\">\n",
       "      <th></th>\n",
       "      <th>article_id</th>\n",
       "      <th>sectionName</th>\n",
       "      <th>webTitle</th>\n",
       "      <th>webUrl</th>\n",
       "      <th>bodyContent</th>\n",
       "      <th>webPublicationDate</th>\n",
       "      <th>id</th>\n",
       "    </tr>\n",
       "  </thead>\n",
       "  <tbody>\n",
       "    <tr>\n",
       "      <th>0</th>\n",
       "      <td>books/2022/may/24/margaret-atwood-handmaids-ta...</td>\n",
       "      <td>Books</td>\n",
       "      <td>Atwood responds to book bans with ‘unburnable’...</td>\n",
       "      <td>https://www.theguardian.com/books/2022/may/24/...</td>\n",
       "      <td>Amid political firestorms over books deemed by...</td>\n",
       "      <td>2022-05-24 14:52:56</td>\n",
       "      <td>147533</td>\n",
       "    </tr>\n",
       "    <tr>\n",
       "      <th>1</th>\n",
       "      <td>uk-news/2022/apr/29/eden-project-cornwall-inst...</td>\n",
       "      <td>UK news</td>\n",
       "      <td>Eden Project installs plastic grass to stop ch...</td>\n",
       "      <td>https://www.theguardian.com/uk-news/2022/apr/2...</td>\n",
       "      <td>The Eden Project in Cornwall has installed pla...</td>\n",
       "      <td>2022-04-29 09:24:02</td>\n",
       "      <td>144415</td>\n",
       "    </tr>\n",
       "    <tr>\n",
       "      <th>2</th>\n",
       "      <td>music/2018/jan/26/grammys-2018-jay-z-despacito...</td>\n",
       "      <td>Music</td>\n",
       "      <td>Who will – and should – win the major categori...</td>\n",
       "      <td>https://www.theguardian.com/music/2018/jan/26/...</td>\n",
       "      <td>Album of the year Awaken, My Love! – Childish ...</td>\n",
       "      <td>2018-01-26 12:11:12</td>\n",
       "      <td>47554</td>\n",
       "    </tr>\n",
       "    <tr>\n",
       "      <th>3</th>\n",
       "      <td>technology/2018/apr/24/facebook-replacement-op...</td>\n",
       "      <td>Technology</td>\n",
       "      <td>Is Facebook replaceable? Tech investor launche...</td>\n",
       "      <td>https://www.theguardian.com/technology/2018/ap...</td>\n",
       "      <td>Can Facebook be replaced? The prominent Silico...</td>\n",
       "      <td>2018-04-24 19:35:23</td>\n",
       "      <td>53471</td>\n",
       "    </tr>\n",
       "    <tr>\n",
       "      <th>4</th>\n",
       "      <td>us-news/2019/jun/30/democrats-impeach-trump-pe...</td>\n",
       "      <td>US news</td>\n",
       "      <td>Democrats divided as pressure to impeach build...</td>\n",
       "      <td>https://www.theguardian.com/us-news/2019/jun/3...</td>\n",
       "      <td>In the House of Representatives the apparently...</td>\n",
       "      <td>2019-06-30 04:00:06</td>\n",
       "      <td>79238</td>\n",
       "    </tr>\n",
       "  </tbody>\n",
       "</table>\n",
       "</div>"
      ],
      "text/plain": [
       "                                          article_id sectionName  \\\n",
       "0  books/2022/may/24/margaret-atwood-handmaids-ta...       Books   \n",
       "1  uk-news/2022/apr/29/eden-project-cornwall-inst...     UK news   \n",
       "2  music/2018/jan/26/grammys-2018-jay-z-despacito...       Music   \n",
       "3  technology/2018/apr/24/facebook-replacement-op...  Technology   \n",
       "4  us-news/2019/jun/30/democrats-impeach-trump-pe...     US news   \n",
       "\n",
       "                                            webTitle  \\\n",
       "0  Atwood responds to book bans with ‘unburnable’...   \n",
       "1  Eden Project installs plastic grass to stop ch...   \n",
       "2  Who will – and should – win the major categori...   \n",
       "3  Is Facebook replaceable? Tech investor launche...   \n",
       "4  Democrats divided as pressure to impeach build...   \n",
       "\n",
       "                                              webUrl  \\\n",
       "0  https://www.theguardian.com/books/2022/may/24/...   \n",
       "1  https://www.theguardian.com/uk-news/2022/apr/2...   \n",
       "2  https://www.theguardian.com/music/2018/jan/26/...   \n",
       "3  https://www.theguardian.com/technology/2018/ap...   \n",
       "4  https://www.theguardian.com/us-news/2019/jun/3...   \n",
       "\n",
       "                                         bodyContent   webPublicationDate  \\\n",
       "0  Amid political firestorms over books deemed by...  2022-05-24 14:52:56   \n",
       "1  The Eden Project in Cornwall has installed pla...  2022-04-29 09:24:02   \n",
       "2  Album of the year Awaken, My Love! – Childish ...  2018-01-26 12:11:12   \n",
       "3  Can Facebook be replaced? The prominent Silico...  2018-04-24 19:35:23   \n",
       "4  In the House of Representatives the apparently...  2019-06-30 04:00:06   \n",
       "\n",
       "       id  \n",
       "0  147533  \n",
       "1  144415  \n",
       "2   47554  \n",
       "3   53471  \n",
       "4   79238  "
      ]
     },
     "execution_count": 7,
     "metadata": {},
     "output_type": "execute_result"
    }
   ],
   "source": [
    "import pandas as pd\n",
    "\n",
    "data = pd.read_csv('guardian_100.csv')\n",
    "print(data.shape)\n",
    "data.head()\n"
   ]
  },
  {
   "cell_type": "markdown",
   "metadata": {},
   "source": [
    "## Úkoly\n",
    "\n",
    "1. Vytvořte a implementujte prompt, který shrne každý z článků do jedné věty.\n",
    "2. Vytvořte prompt, který z textu článku vytvoří strukturovaný výstup, ve kterém bude uvedeno, jakých lidí/entit se týká, do jaké z předdefinovaných kategorií (`data['sectionName'].unique().tolist()`) spadá, a jak urgentní popisuje situaci. Uložte tuto strukturu do nového sloupce `data['structured_output']`.\n",
    "3. Udělejte graf častosti výskytu jednotlivých kategorií a jednotlivých entit. (Fantazii se meze nekladou - prodiskutujte to s pomocníčkem.)\n",
    "4. Porovnejte výsledky klasifikace s původním sloupcem `data['sectionName']`. Jak velké úspěšnosti jste dosáhly?\n",
    "\n",
    "## Ukázka"
   ]
  },
  {
   "cell_type": "code",
   "execution_count": 8,
   "metadata": {},
   "outputs": [
    {
     "data": {
      "text/html": [
       "<pre style=\"white-space:pre;overflow-x:auto;line-height:normal;font-family:Menlo,'DejaVu Sans Mono',consolas,'Courier New',monospace\">Atwood responds to book bans with ‘unburnable’ edition of Handmaid’s Tale\n",
       "</pre>\n"
      ],
      "text/plain": [
       "Atwood responds to book bans with ‘unburnable’ edition of Handmaid’s Tale\n"
      ]
     },
     "metadata": {},
     "output_type": "display_data"
    },
    {
     "data": {
      "text/html": [
       "<pre style=\"white-space:pre;overflow-x:auto;line-height:normal;font-family:Menlo,'DejaVu Sans Mono',consolas,'Courier New',monospace\">Margaret Atwood has announced an <span style=\"color: #008000; text-decoration-color: #008000\">\"unburnable\"</span> edition of her novel The Handmaid's Tale, made with fireproof \n",
       "materials to symbolize against censorship, with proceeds from its Sotheby's auction supporting Pen America's free \n",
       "expression work amid ongoing debates about book bans in schools.\n",
       "</pre>\n"
      ],
      "text/plain": [
       "Margaret Atwood has announced an \u001b[32m\"unburnable\"\u001b[0m edition of her novel The Handmaid's Tale, made with fireproof \n",
       "materials to symbolize against censorship, with proceeds from its Sotheby's auction supporting Pen America's free \n",
       "expression work amid ongoing debates about book bans in schools.\n"
      ]
     },
     "metadata": {},
     "output_type": "display_data"
    },
    {
     "data": {
      "text/html": [
       "<pre style=\"white-space:pre;overflow-x:auto;line-height:normal;font-family:Menlo,'DejaVu Sans Mono',consolas,'Courier New',monospace\">Eden Project installs plastic grass to stop children getting muddy\n",
       "</pre>\n"
      ],
      "text/plain": [
       "Eden Project installs plastic grass to stop children getting muddy\n"
      ]
     },
     "metadata": {},
     "output_type": "display_data"
    },
    {
     "data": {
      "text/html": [
       "<pre style=\"white-space:pre;overflow-x:auto;line-height:normal;font-family:Menlo,'DejaVu Sans Mono',consolas,'Courier New',monospace\">The use of artificial grass in the UK, highlighted by the Eden Project's installation at a children's play area, is\n",
       "stirring controversy among environmental campaigners due to ecological concerns and criticisms of greenwashing, \n",
       "despite claims of durability and air-purifying properties by manufacturers.\n",
       "</pre>\n"
      ],
      "text/plain": [
       "The use of artificial grass in the UK, highlighted by the Eden Project's installation at a children's play area, is\n",
       "stirring controversy among environmental campaigners due to ecological concerns and criticisms of greenwashing, \n",
       "despite claims of durability and air-purifying properties by manufacturers.\n"
      ]
     },
     "metadata": {},
     "output_type": "display_data"
    }
   ],
   "source": [
    "example = data[0:2]\n",
    "outputs = []\n",
    "for i, row in example.iterrows():\n",
    "    print(row['webTitle'])\n",
    "    output = client.chat.completions.create(\n",
    "        messages=[\n",
    "            {\"role\": \"system\", \"content\": \"You are a helpful assistant that summarizes news articles down to exactly one sentence.\"},\n",
    "            {\"role\": \"user\", \"content\": row['bodyContent']},\n",
    "        ],\n",
    "        model=\"gpt-4o\",\n",
    "        response_model=str,\n",
    "    )\n",
    "    print(output)\n",
    "    outputs.append(output)\n"
   ]
  },
  {
   "cell_type": "markdown",
   "metadata": {},
   "source": []
  }
 ],
 "metadata": {
  "kernelspec": {
   "display_name": ".venv",
   "language": "python",
   "name": "python3"
  },
  "language_info": {
   "codemirror_mode": {
    "name": "ipython",
    "version": 3
   },
   "file_extension": ".py",
   "mimetype": "text/x-python",
   "name": "python",
   "nbconvert_exporter": "python",
   "pygments_lexer": "ipython3",
   "version": "3.13.3"
  }
 },
 "nbformat": 4,
 "nbformat_minor": 2
}
