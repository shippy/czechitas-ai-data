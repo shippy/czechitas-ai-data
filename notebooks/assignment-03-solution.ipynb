{
 "cells": [
  {
   "cell_type": "markdown",
   "metadata": {},
   "source": [
    "## Úkol 3\n",
    "\n",
    "[![Open In Colab](https://colab.research.google.com/assets/colab-badge.svg)](https://colab.research.google.com/github/shippy/czechitas-ai-data/blob/main/notebooks/assignment-03.ipynb)\n",
    "\n",
    "\n",
    "### Nastavte si API klíč\n",
    "\n",
    "1. Navštivte [Google AI Studio](https://aistudio.google.com/app/apikey) a vytvořte si API klíč.\n",
    "2. V levé liště klikněte na tlačítko \"Secrets\" a přidejte předtím vytvořený API klíč do proměnné `GOOGLE_API_KEY` - buď \"napřímo\" přes \"+ Add new secret\", nebo přes \"Gemini API keys\" > \"Import key from Google AI Studio\".\n",
    "\n",
    "(Pokud jste otevřeli tento notebook lokálně, např. ve VSCode, můžete si API klíč nastavit v souboru `.env`.)\n",
    "\n",
    "### Setup a test\n",
    "\n",
    "Spusťte následující dvě buňky. Pokud vám AI řekne, jak se má, vše funguje správně."
   ]
  },
  {
   "cell_type": "code",
   "execution_count": 2,
   "metadata": {},
   "outputs": [],
   "source": [
    "try:\n",
    "    from google.colab import userdata\n",
    "    _secret = userdata.get(\"GOOGLE_API_KEY\")\n",
    "    %pip install instructor google-generativeai python-dotenv rich\n",
    "except ImportError:\n",
    "    import os\n",
    "    from dotenv import load_dotenv\n",
    "    _ = load_dotenv()\n",
    "    _secret = os.environ.get(\"GOOGLE_API_KEY\")"
   ]
  },
  {
   "cell_type": "code",
   "execution_count": 3,
   "metadata": {},
   "outputs": [
    {
     "name": "stderr",
     "output_type": "stream",
     "text": [
      "/Users/simon/Documents/czechitas-ai-data/.venv/lib/python3.13/site-packages/tqdm/auto.py:21: TqdmWarning: IProgress not found. Please update jupyter and ipywidgets. See https://ipywidgets.readthedocs.io/en/stable/user_install.html\n",
      "  from .autonotebook import tqdm as notebook_tqdm\n"
     ]
    },
    {
     "data": {
      "text/html": [
       "<pre style=\"white-space:pre;overflow-x:auto;line-height:normal;font-family:Menlo,'DejaVu Sans Mono',consolas,'Courier New',monospace\">Hello! I am doing well, thank you for asking. 😊\n",
       "</pre>\n"
      ],
      "text/plain": [
       "Hello! I am doing well, thank you for asking. 😊\n"
      ]
     },
     "metadata": {},
     "output_type": "display_data"
    }
   ],
   "source": [
    "import instructor\n",
    "import google.generativeai as genai\n",
    "import os\n",
    "from rich import print\n",
    "\n",
    "try:\n",
    "    if _secret:\n",
    "        genai.configure(api_key=_secret)\n",
    "    else:\n",
    "        raise ValueError(\"API klíč nebyl nastaven!\")\n",
    "except NameError:\n",
    "    print(\"Nastavte si API klíč v proměnné GOOGLE_API_KEY a znovu spusťte *celý* notebook včetně předchozí buňky\")\n",
    "\n",
    "_client = genai.GenerativeModel(\n",
    "    model_name=\"models/gemini-1.5-flash-latest\",\n",
    ")\n",
    "# _client.generate_content pro \"normální\" použití\n",
    "client = instructor.from_gemini(\n",
    "    client=_client,\n",
    "    mode=instructor.Mode.GEMINI_JSON,\n",
    ")\n",
    "test = client.chat.completions.create(\n",
    "    messages=[\n",
    "        {\"role\": \"user\", \"content\": \"Hello, how are you? Respond with an emotion.\"},\n",
    "    ],\n",
    "    response_model=str,\n",
    ")\n",
    "print(test)\n"
   ]
  },
  {
   "cell_type": "markdown",
   "metadata": {},
   "source": [
    "### Úkol, část 1\n",
    "\n",
    "Vytáhněte ze nestrukturovaných odpovědí níže definované datové struktury."
   ]
  },
  {
   "cell_type": "code",
   "execution_count": 4,
   "metadata": {},
   "outputs": [],
   "source": [
    "from pydantic import BaseModel, Field\n",
    "from typing import Literal\n",
    "\n",
    "Occupation = Literal[\"gardener\", \"teacher\", \"doctor\", \"engineer\", \"lawyer\", \"scientist\", \"artist\", \"writer\", \"pensioner\", \"other\"]\n",
    "\n",
    "\n",
    "class Citizen(BaseModel):\n",
    "    name: str = Field(..., description=\"Full name of the citizen\")\n",
    "    age: int\n",
    "    occupation: Occupation\n",
    "    interests: list[str]"
   ]
  },
  {
   "cell_type": "code",
   "execution_count": 5,
   "metadata": {},
   "outputs": [],
   "source": [
    "census_responses = [\n",
    "    \"Jsem osmadvacetiletý Honza Pálka, pracuju v Semilhotce jako čistič kanálů. Rád hraju šachy a na bicí.\",\n",
    "    \"Jsem Jana Nováková, je mi 30, dojíždím do Semilhotské školy učit. Ráda čtu knihy a jezdím na hory.\",\n",
    "    \"Jsem čtyřicetiletý Petr Válek, pracuju v Semilhotce jako zedník. Rád cestuji a hraju fotbal.\",\n",
    "    \"Jsem padesátiletý Vladimír Dvořák, pracuju v Semilhotce jako policista. Rád cestuji a hraju kulečník.\",\n",
    "    \"Jsem šedesátiletý Jaroslav Bílek, pracuju v Semilhotce jako zahradník. Rád cestuji a hraju kulečník.\",\n",
    "    \"Jsem sedmdesátiletý Karel Dvořák, pracuju v Semilhotce jako zedník. Rád cestuji a hraju kulečník.\",\n",
    "    \"Jsem osmdesátiletý Josef Novák, pracuju v Semilhotce jako inženýr. Rád cestuji a hraju kulečník.\",\n",
    "    \"Jsem devadesátiletý Igor Hnízdo, jsem tu penzista. Rád cestuji a hraju kulečník.\",\n",
    "]\n"
   ]
  },
  {
   "cell_type": "markdown",
   "metadata": {},
   "source": [
    "- Tip 1: můžete použít i prompt engineering (tj. první message s `\"role\": \"system\"`), aby AI lépe poznala, co chcete.\n",
    "- Tip 2: `client.chat.completions.create` umí vracet i `response_model=Citizen` nebo i `response_model=list[Citizen]`\n",
    "\n",
    "Dávalo by smysl na základě dat přidefinovat do třídy `Citizen` nějaký atribut, abyste zachytili více informací?"
   ]
  },
  {
   "cell_type": "code",
   "execution_count": null,
   "metadata": {},
   "outputs": [
    {
     "data": {
      "text/html": [
       "<pre style=\"white-space:pre;overflow-x:auto;line-height:normal;font-family:Menlo,'DejaVu Sans Mono',consolas,'Courier New',monospace\"><span style=\"font-weight: bold\">[</span>\n",
       "    <span style=\"color: #800080; text-decoration-color: #800080; font-weight: bold\">Citizen</span><span style=\"font-weight: bold\">(</span><span style=\"color: #808000; text-decoration-color: #808000\">name</span>=<span style=\"color: #008000; text-decoration-color: #008000\">'Honza Pálka'</span>, <span style=\"color: #808000; text-decoration-color: #808000\">age</span>=<span style=\"color: #008080; text-decoration-color: #008080; font-weight: bold\">28</span>, <span style=\"color: #808000; text-decoration-color: #808000\">occupation</span>=<span style=\"color: #008000; text-decoration-color: #008000\">'other'</span>, <span style=\"color: #808000; text-decoration-color: #808000\">interests</span>=<span style=\"font-weight: bold\">[</span><span style=\"color: #008000; text-decoration-color: #008000\">'šachy'</span>, <span style=\"color: #008000; text-decoration-color: #008000\">'bicí'</span><span style=\"font-weight: bold\">])</span>,\n",
       "    <span style=\"color: #800080; text-decoration-color: #800080; font-weight: bold\">Citizen</span><span style=\"font-weight: bold\">(</span>\n",
       "        <span style=\"color: #808000; text-decoration-color: #808000\">name</span>=<span style=\"color: #008000; text-decoration-color: #008000\">'Jana Nováková'</span>,\n",
       "        <span style=\"color: #808000; text-decoration-color: #808000\">age</span>=<span style=\"color: #008080; text-decoration-color: #008080; font-weight: bold\">30</span>,\n",
       "        <span style=\"color: #808000; text-decoration-color: #808000\">occupation</span>=<span style=\"color: #008000; text-decoration-color: #008000\">'teacher'</span>,\n",
       "        <span style=\"color: #808000; text-decoration-color: #808000\">interests</span>=<span style=\"font-weight: bold\">[</span><span style=\"color: #008000; text-decoration-color: #008000\">'reading books'</span>, <span style=\"color: #008000; text-decoration-color: #008000\">'hiking in the mountains'</span><span style=\"font-weight: bold\">]</span>\n",
       "    <span style=\"font-weight: bold\">)</span>,\n",
       "    <span style=\"color: #800080; text-decoration-color: #800080; font-weight: bold\">Citizen</span><span style=\"font-weight: bold\">(</span><span style=\"color: #808000; text-decoration-color: #808000\">name</span>=<span style=\"color: #008000; text-decoration-color: #008000\">'Petr Válek'</span>, <span style=\"color: #808000; text-decoration-color: #808000\">age</span>=<span style=\"color: #008080; text-decoration-color: #008080; font-weight: bold\">40</span>, <span style=\"color: #808000; text-decoration-color: #808000\">occupation</span>=<span style=\"color: #008000; text-decoration-color: #008000\">'other'</span>, <span style=\"color: #808000; text-decoration-color: #808000\">interests</span>=<span style=\"font-weight: bold\">[</span><span style=\"color: #008000; text-decoration-color: #008000\">'cestovani'</span>, <span style=\"color: #008000; text-decoration-color: #008000\">'fotbal'</span><span style=\"font-weight: bold\">])</span>,\n",
       "    <span style=\"color: #800080; text-decoration-color: #800080; font-weight: bold\">Citizen</span><span style=\"font-weight: bold\">(</span><span style=\"color: #808000; text-decoration-color: #808000\">name</span>=<span style=\"color: #008000; text-decoration-color: #008000\">'Vladimír Dvořák'</span>, <span style=\"color: #808000; text-decoration-color: #808000\">age</span>=<span style=\"color: #008080; text-decoration-color: #008080; font-weight: bold\">50</span>, <span style=\"color: #808000; text-decoration-color: #808000\">occupation</span>=<span style=\"color: #008000; text-decoration-color: #008000\">'other'</span>, <span style=\"color: #808000; text-decoration-color: #808000\">interests</span>=<span style=\"font-weight: bold\">[</span><span style=\"color: #008000; text-decoration-color: #008000\">'cestování'</span>, <span style=\"color: #008000; text-decoration-color: #008000\">'kulečník'</span><span style=\"font-weight: bold\">])</span>,\n",
       "    <span style=\"color: #800080; text-decoration-color: #800080; font-weight: bold\">Citizen</span><span style=\"font-weight: bold\">(</span><span style=\"color: #808000; text-decoration-color: #808000\">name</span>=<span style=\"color: #008000; text-decoration-color: #008000\">'Jaroslav Bílek'</span>, <span style=\"color: #808000; text-decoration-color: #808000\">age</span>=<span style=\"color: #008080; text-decoration-color: #008080; font-weight: bold\">60</span>, <span style=\"color: #808000; text-decoration-color: #808000\">occupation</span>=<span style=\"color: #008000; text-decoration-color: #008000\">'gardener'</span>, <span style=\"color: #808000; text-decoration-color: #808000\">interests</span>=<span style=\"font-weight: bold\">[</span><span style=\"color: #008000; text-decoration-color: #008000\">'traveling'</span>, <span style=\"color: #008000; text-decoration-color: #008000\">'playing billiards'</span><span style=\"font-weight: bold\">])</span>,\n",
       "    <span style=\"color: #800080; text-decoration-color: #800080; font-weight: bold\">Citizen</span><span style=\"font-weight: bold\">(</span><span style=\"color: #808000; text-decoration-color: #808000\">name</span>=<span style=\"color: #008000; text-decoration-color: #008000\">'Karel Dvořák'</span>, <span style=\"color: #808000; text-decoration-color: #808000\">age</span>=<span style=\"color: #008080; text-decoration-color: #008080; font-weight: bold\">70</span>, <span style=\"color: #808000; text-decoration-color: #808000\">occupation</span>=<span style=\"color: #008000; text-decoration-color: #008000\">'other'</span>, <span style=\"color: #808000; text-decoration-color: #808000\">interests</span>=<span style=\"font-weight: bold\">[</span><span style=\"color: #008000; text-decoration-color: #008000\">'cestování'</span>, <span style=\"color: #008000; text-decoration-color: #008000\">'kulečník'</span><span style=\"font-weight: bold\">])</span>,\n",
       "    <span style=\"color: #800080; text-decoration-color: #800080; font-weight: bold\">Citizen</span><span style=\"font-weight: bold\">(</span><span style=\"color: #808000; text-decoration-color: #808000\">name</span>=<span style=\"color: #008000; text-decoration-color: #008000\">'Josef Novák'</span>, <span style=\"color: #808000; text-decoration-color: #808000\">age</span>=<span style=\"color: #008080; text-decoration-color: #008080; font-weight: bold\">80</span>, <span style=\"color: #808000; text-decoration-color: #808000\">occupation</span>=<span style=\"color: #008000; text-decoration-color: #008000\">'engineer'</span>, <span style=\"color: #808000; text-decoration-color: #808000\">interests</span>=<span style=\"font-weight: bold\">[</span><span style=\"color: #008000; text-decoration-color: #008000\">'cestovani'</span>, <span style=\"color: #008000; text-decoration-color: #008000\">'kulečník'</span><span style=\"font-weight: bold\">])</span>,\n",
       "    <span style=\"color: #800080; text-decoration-color: #800080; font-weight: bold\">Citizen</span><span style=\"font-weight: bold\">(</span><span style=\"color: #808000; text-decoration-color: #808000\">name</span>=<span style=\"color: #008000; text-decoration-color: #008000\">'Igor Hnízdo'</span>, <span style=\"color: #808000; text-decoration-color: #808000\">age</span>=<span style=\"color: #008080; text-decoration-color: #008080; font-weight: bold\">90</span>, <span style=\"color: #808000; text-decoration-color: #808000\">occupation</span>=<span style=\"color: #008000; text-decoration-color: #008000\">'pensioner'</span>, <span style=\"color: #808000; text-decoration-color: #808000\">interests</span>=<span style=\"font-weight: bold\">[</span><span style=\"color: #008000; text-decoration-color: #008000\">'cestování'</span>, <span style=\"color: #008000; text-decoration-color: #008000\">'kulečník'</span><span style=\"font-weight: bold\">])</span>\n",
       "<span style=\"font-weight: bold\">]</span>\n",
       "</pre>\n"
      ],
      "text/plain": [
       "\u001b[1m[\u001b[0m\n",
       "    \u001b[1;35mCitizen\u001b[0m\u001b[1m(\u001b[0m\u001b[33mname\u001b[0m=\u001b[32m'Honza Pálka'\u001b[0m, \u001b[33mage\u001b[0m=\u001b[1;36m28\u001b[0m, \u001b[33moccupation\u001b[0m=\u001b[32m'other'\u001b[0m, \u001b[33minterests\u001b[0m=\u001b[1m[\u001b[0m\u001b[32m'šachy'\u001b[0m, \u001b[32m'bicí'\u001b[0m\u001b[1m]\u001b[0m\u001b[1m)\u001b[0m,\n",
       "    \u001b[1;35mCitizen\u001b[0m\u001b[1m(\u001b[0m\n",
       "        \u001b[33mname\u001b[0m=\u001b[32m'Jana Nováková'\u001b[0m,\n",
       "        \u001b[33mage\u001b[0m=\u001b[1;36m30\u001b[0m,\n",
       "        \u001b[33moccupation\u001b[0m=\u001b[32m'teacher'\u001b[0m,\n",
       "        \u001b[33minterests\u001b[0m=\u001b[1m[\u001b[0m\u001b[32m'reading books'\u001b[0m, \u001b[32m'hiking in the mountains'\u001b[0m\u001b[1m]\u001b[0m\n",
       "    \u001b[1m)\u001b[0m,\n",
       "    \u001b[1;35mCitizen\u001b[0m\u001b[1m(\u001b[0m\u001b[33mname\u001b[0m=\u001b[32m'Petr Válek'\u001b[0m, \u001b[33mage\u001b[0m=\u001b[1;36m40\u001b[0m, \u001b[33moccupation\u001b[0m=\u001b[32m'other'\u001b[0m, \u001b[33minterests\u001b[0m=\u001b[1m[\u001b[0m\u001b[32m'cestovani'\u001b[0m, \u001b[32m'fotbal'\u001b[0m\u001b[1m]\u001b[0m\u001b[1m)\u001b[0m,\n",
       "    \u001b[1;35mCitizen\u001b[0m\u001b[1m(\u001b[0m\u001b[33mname\u001b[0m=\u001b[32m'Vladimír Dvořák'\u001b[0m, \u001b[33mage\u001b[0m=\u001b[1;36m50\u001b[0m, \u001b[33moccupation\u001b[0m=\u001b[32m'other'\u001b[0m, \u001b[33minterests\u001b[0m=\u001b[1m[\u001b[0m\u001b[32m'cestování'\u001b[0m, \u001b[32m'kulečník'\u001b[0m\u001b[1m]\u001b[0m\u001b[1m)\u001b[0m,\n",
       "    \u001b[1;35mCitizen\u001b[0m\u001b[1m(\u001b[0m\u001b[33mname\u001b[0m=\u001b[32m'Jaroslav Bílek'\u001b[0m, \u001b[33mage\u001b[0m=\u001b[1;36m60\u001b[0m, \u001b[33moccupation\u001b[0m=\u001b[32m'gardener'\u001b[0m, \u001b[33minterests\u001b[0m=\u001b[1m[\u001b[0m\u001b[32m'traveling'\u001b[0m, \u001b[32m'playing billiards'\u001b[0m\u001b[1m]\u001b[0m\u001b[1m)\u001b[0m,\n",
       "    \u001b[1;35mCitizen\u001b[0m\u001b[1m(\u001b[0m\u001b[33mname\u001b[0m=\u001b[32m'Karel Dvořák'\u001b[0m, \u001b[33mage\u001b[0m=\u001b[1;36m70\u001b[0m, \u001b[33moccupation\u001b[0m=\u001b[32m'other'\u001b[0m, \u001b[33minterests\u001b[0m=\u001b[1m[\u001b[0m\u001b[32m'cestování'\u001b[0m, \u001b[32m'kulečník'\u001b[0m\u001b[1m]\u001b[0m\u001b[1m)\u001b[0m,\n",
       "    \u001b[1;35mCitizen\u001b[0m\u001b[1m(\u001b[0m\u001b[33mname\u001b[0m=\u001b[32m'Josef Novák'\u001b[0m, \u001b[33mage\u001b[0m=\u001b[1;36m80\u001b[0m, \u001b[33moccupation\u001b[0m=\u001b[32m'engineer'\u001b[0m, \u001b[33minterests\u001b[0m=\u001b[1m[\u001b[0m\u001b[32m'cestovani'\u001b[0m, \u001b[32m'kulečník'\u001b[0m\u001b[1m]\u001b[0m\u001b[1m)\u001b[0m,\n",
       "    \u001b[1;35mCitizen\u001b[0m\u001b[1m(\u001b[0m\u001b[33mname\u001b[0m=\u001b[32m'Igor Hnízdo'\u001b[0m, \u001b[33mage\u001b[0m=\u001b[1;36m90\u001b[0m, \u001b[33moccupation\u001b[0m=\u001b[32m'pensioner'\u001b[0m, \u001b[33minterests\u001b[0m=\u001b[1m[\u001b[0m\u001b[32m'cestování'\u001b[0m, \u001b[32m'kulečník'\u001b[0m\u001b[1m]\u001b[0m\u001b[1m)\u001b[0m\n",
       "\u001b[1m]\u001b[0m\n"
      ]
     },
     "metadata": {},
     "output_type": "display_data"
    }
   ],
   "source": [
    "# Zde řešte úkol 1.\n",
    "citizens = []\n",
    "\n",
    "for response in census_responses:\n",
    "    result = client.chat.completions.create(\n",
    "        messages=[\n",
    "            {\"role\": \"user\", \"content\": response},\n",
    "        ],\n",
    "        response_model=Citizen,\n",
    "    )\n",
    "    citizens.append(result)\n",
    "\n",
    "print(citizens)\n"
   ]
  },
  {
   "cell_type": "markdown",
   "metadata": {},
   "source": [
    "### Úkol, část 2\n",
    "\n",
    "Vygenerujte dataset nebo sadu datasetů, který popíše fiktivní městečko Semilhotka. Začněte např. s datovou strukturou `Citizen` následovně:"
   ]
  },
  {
   "cell_type": "code",
   "execution_count": 7,
   "metadata": {},
   "outputs": [
    {
     "data": {
      "text/html": [
       "<pre style=\"white-space:pre;overflow-x:auto;line-height:normal;font-family:Menlo,'DejaVu Sans Mono',consolas,'Courier New',monospace\"><span style=\"font-weight: bold\">[</span>\n",
       "    <span style=\"color: #800080; text-decoration-color: #800080; font-weight: bold\">Citizen</span><span style=\"font-weight: bold\">(</span><span style=\"color: #808000; text-decoration-color: #808000\">name</span>=<span style=\"color: #008000; text-decoration-color: #008000\">'Vasyl Romanov'</span>, <span style=\"color: #808000; text-decoration-color: #808000\">age</span>=<span style=\"color: #008080; text-decoration-color: #008080; font-weight: bold\">62</span>, <span style=\"color: #808000; text-decoration-color: #808000\">occupation</span>=<span style=\"color: #008000; text-decoration-color: #008000\">'pensioner'</span>, <span style=\"color: #808000; text-decoration-color: #808000\">interests</span>=<span style=\"font-weight: bold\">[</span><span style=\"color: #008000; text-decoration-color: #008000\">'fishing'</span>, <span style=\"color: #008000; text-decoration-color: #008000\">'gardening'</span>, <span style=\"color: #008000; text-decoration-color: #008000\">'chess'</span><span style=\"font-weight: bold\">])</span>,\n",
       "    <span style=\"color: #800080; text-decoration-color: #800080; font-weight: bold\">Citizen</span><span style=\"font-weight: bold\">(</span><span style=\"color: #808000; text-decoration-color: #808000\">name</span>=<span style=\"color: #008000; text-decoration-color: #008000\">'Iryna Petrenko'</span>, <span style=\"color: #808000; text-decoration-color: #808000\">age</span>=<span style=\"color: #008080; text-decoration-color: #008080; font-weight: bold\">35</span>, <span style=\"color: #808000; text-decoration-color: #808000\">occupation</span>=<span style=\"color: #008000; text-decoration-color: #008000\">'teacher'</span>, <span style=\"color: #808000; text-decoration-color: #808000\">interests</span>=<span style=\"font-weight: bold\">[</span><span style=\"color: #008000; text-decoration-color: #008000\">'reading'</span>, <span style=\"color: #008000; text-decoration-color: #008000\">'hiking'</span>, <span style=\"color: #008000; text-decoration-color: #008000\">'yoga'</span><span style=\"font-weight: bold\">])</span>,\n",
       "    <span style=\"color: #800080; text-decoration-color: #800080; font-weight: bold\">Citizen</span><span style=\"font-weight: bold\">(</span>\n",
       "        <span style=\"color: #808000; text-decoration-color: #808000\">name</span>=<span style=\"color: #008000; text-decoration-color: #008000\">'Petro Shevchenko'</span>,\n",
       "        <span style=\"color: #808000; text-decoration-color: #808000\">age</span>=<span style=\"color: #008080; text-decoration-color: #008080; font-weight: bold\">48</span>,\n",
       "        <span style=\"color: #808000; text-decoration-color: #808000\">occupation</span>=<span style=\"color: #008000; text-decoration-color: #008000\">'engineer'</span>,\n",
       "        <span style=\"color: #808000; text-decoration-color: #808000\">interests</span>=<span style=\"font-weight: bold\">[</span><span style=\"color: #008000; text-decoration-color: #008000\">'programming'</span>, <span style=\"color: #008000; text-decoration-color: #008000\">'cycling'</span>, <span style=\"color: #008000; text-decoration-color: #008000\">'photography'</span><span style=\"font-weight: bold\">]</span>\n",
       "    <span style=\"font-weight: bold\">)</span>,\n",
       "    <span style=\"color: #800080; text-decoration-color: #800080; font-weight: bold\">Citizen</span><span style=\"font-weight: bold\">(</span><span style=\"color: #808000; text-decoration-color: #808000\">name</span>=<span style=\"color: #008000; text-decoration-color: #008000\">'Olena Kovalenko'</span>, <span style=\"color: #808000; text-decoration-color: #808000\">age</span>=<span style=\"color: #008080; text-decoration-color: #008080; font-weight: bold\">28</span>, <span style=\"color: #808000; text-decoration-color: #808000\">occupation</span>=<span style=\"color: #008000; text-decoration-color: #008000\">'doctor'</span>, <span style=\"color: #808000; text-decoration-color: #808000\">interests</span>=<span style=\"font-weight: bold\">[</span><span style=\"color: #008000; text-decoration-color: #008000\">'medicine'</span>, <span style=\"color: #008000; text-decoration-color: #008000\">'traveling'</span>, <span style=\"color: #008000; text-decoration-color: #008000\">'dancing'</span><span style=\"font-weight: bold\">])</span>,\n",
       "    <span style=\"color: #800080; text-decoration-color: #800080; font-weight: bold\">Citizen</span><span style=\"font-weight: bold\">(</span><span style=\"color: #808000; text-decoration-color: #808000\">name</span>=<span style=\"color: #008000; text-decoration-color: #008000\">'Andriy Marchenko'</span>, <span style=\"color: #808000; text-decoration-color: #808000\">age</span>=<span style=\"color: #008080; text-decoration-color: #008080; font-weight: bold\">55</span>, <span style=\"color: #808000; text-decoration-color: #808000\">occupation</span>=<span style=\"color: #008000; text-decoration-color: #008000\">'lawyer'</span>, <span style=\"color: #808000; text-decoration-color: #808000\">interests</span>=<span style=\"font-weight: bold\">[</span><span style=\"color: #008000; text-decoration-color: #008000\">'law'</span>, <span style=\"color: #008000; text-decoration-color: #008000\">'history'</span>, <span style=\"color: #008000; text-decoration-color: #008000\">'politics'</span><span style=\"font-weight: bold\">])</span>,\n",
       "    <span style=\"color: #800080; text-decoration-color: #800080; font-weight: bold\">Citizen</span><span style=\"font-weight: bold\">(</span><span style=\"color: #808000; text-decoration-color: #808000\">name</span>=<span style=\"color: #008000; text-decoration-color: #008000\">'Tetiana Hrytsenko'</span>, <span style=\"color: #808000; text-decoration-color: #808000\">age</span>=<span style=\"color: #008080; text-decoration-color: #008080; font-weight: bold\">31</span>, <span style=\"color: #808000; text-decoration-color: #808000\">occupation</span>=<span style=\"color: #008000; text-decoration-color: #008000\">'scientist'</span>, <span style=\"color: #808000; text-decoration-color: #808000\">interests</span>=<span style=\"font-weight: bold\">[</span><span style=\"color: #008000; text-decoration-color: #008000\">'research'</span>, <span style=\"color: #008000; text-decoration-color: #008000\">'writing'</span>, <span style=\"color: #008000; text-decoration-color: #008000\">'music'</span><span style=\"font-weight: bold\">])</span>,\n",
       "    <span style=\"color: #800080; text-decoration-color: #800080; font-weight: bold\">Citizen</span><span style=\"font-weight: bold\">(</span><span style=\"color: #808000; text-decoration-color: #808000\">name</span>=<span style=\"color: #008000; text-decoration-color: #008000\">'Oleh Melnyk'</span>, <span style=\"color: #808000; text-decoration-color: #808000\">age</span>=<span style=\"color: #008080; text-decoration-color: #008080; font-weight: bold\">42</span>, <span style=\"color: #808000; text-decoration-color: #808000\">occupation</span>=<span style=\"color: #008000; text-decoration-color: #008000\">'artist'</span>, <span style=\"color: #808000; text-decoration-color: #808000\">interests</span>=<span style=\"font-weight: bold\">[</span><span style=\"color: #008000; text-decoration-color: #008000\">'painting'</span>, <span style=\"color: #008000; text-decoration-color: #008000\">'sculpture'</span>, <span style=\"color: #008000; text-decoration-color: #008000\">'drawing'</span><span style=\"font-weight: bold\">])</span>,\n",
       "    <span style=\"color: #800080; text-decoration-color: #800080; font-weight: bold\">Citizen</span><span style=\"font-weight: bold\">(</span><span style=\"color: #808000; text-decoration-color: #808000\">name</span>=<span style=\"color: #008000; text-decoration-color: #008000\">'Hanna Zaitseva'</span>, <span style=\"color: #808000; text-decoration-color: #808000\">age</span>=<span style=\"color: #008080; text-decoration-color: #008080; font-weight: bold\">24</span>, <span style=\"color: #808000; text-decoration-color: #808000\">occupation</span>=<span style=\"color: #008000; text-decoration-color: #008000\">'writer'</span>, <span style=\"color: #808000; text-decoration-color: #808000\">interests</span>=<span style=\"font-weight: bold\">[</span><span style=\"color: #008000; text-decoration-color: #008000\">'literature'</span>, <span style=\"color: #008000; text-decoration-color: #008000\">'poetry'</span>, <span style=\"color: #008000; text-decoration-color: #008000\">'theater'</span><span style=\"font-weight: bold\">])</span>,\n",
       "    <span style=\"color: #800080; text-decoration-color: #800080; font-weight: bold\">Citizen</span><span style=\"font-weight: bold\">(</span>\n",
       "        <span style=\"color: #808000; text-decoration-color: #808000\">name</span>=<span style=\"color: #008000; text-decoration-color: #008000\">'Serhiy Kuzmenko'</span>,\n",
       "        <span style=\"color: #808000; text-decoration-color: #808000\">age</span>=<span style=\"color: #008080; text-decoration-color: #008080; font-weight: bold\">68</span>,\n",
       "        <span style=\"color: #808000; text-decoration-color: #808000\">occupation</span>=<span style=\"color: #008000; text-decoration-color: #008000\">'gardener'</span>,\n",
       "        <span style=\"color: #808000; text-decoration-color: #808000\">interests</span>=<span style=\"font-weight: bold\">[</span><span style=\"color: #008000; text-decoration-color: #008000\">'gardening'</span>, <span style=\"color: #008000; text-decoration-color: #008000\">'birdwatching'</span>, <span style=\"color: #008000; text-decoration-color: #008000\">'fishing'</span><span style=\"font-weight: bold\">]</span>\n",
       "    <span style=\"font-weight: bold\">)</span>,\n",
       "    <span style=\"color: #800080; text-decoration-color: #800080; font-weight: bold\">Citizen</span><span style=\"font-weight: bold\">(</span>\n",
       "        <span style=\"color: #808000; text-decoration-color: #808000\">name</span>=<span style=\"color: #008000; text-decoration-color: #008000\">'Nataliia Levchenko'</span>,\n",
       "        <span style=\"color: #808000; text-decoration-color: #808000\">age</span>=<span style=\"color: #008080; text-decoration-color: #008080; font-weight: bold\">45</span>,\n",
       "        <span style=\"color: #808000; text-decoration-color: #808000\">occupation</span>=<span style=\"color: #008000; text-decoration-color: #008000\">'other'</span>,\n",
       "        <span style=\"color: #808000; text-decoration-color: #808000\">interests</span>=<span style=\"font-weight: bold\">[</span><span style=\"color: #008000; text-decoration-color: #008000\">'sewing'</span>, <span style=\"color: #008000; text-decoration-color: #008000\">'cooking'</span>, <span style=\"color: #008000; text-decoration-color: #008000\">'volunteering'</span><span style=\"font-weight: bold\">]</span>\n",
       "    <span style=\"font-weight: bold\">)</span>\n",
       "<span style=\"font-weight: bold\">]</span>\n",
       "</pre>\n"
      ],
      "text/plain": [
       "\u001b[1m[\u001b[0m\n",
       "    \u001b[1;35mCitizen\u001b[0m\u001b[1m(\u001b[0m\u001b[33mname\u001b[0m=\u001b[32m'Vasyl Romanov'\u001b[0m, \u001b[33mage\u001b[0m=\u001b[1;36m62\u001b[0m, \u001b[33moccupation\u001b[0m=\u001b[32m'pensioner'\u001b[0m, \u001b[33minterests\u001b[0m=\u001b[1m[\u001b[0m\u001b[32m'fishing'\u001b[0m, \u001b[32m'gardening'\u001b[0m, \u001b[32m'chess'\u001b[0m\u001b[1m]\u001b[0m\u001b[1m)\u001b[0m,\n",
       "    \u001b[1;35mCitizen\u001b[0m\u001b[1m(\u001b[0m\u001b[33mname\u001b[0m=\u001b[32m'Iryna Petrenko'\u001b[0m, \u001b[33mage\u001b[0m=\u001b[1;36m35\u001b[0m, \u001b[33moccupation\u001b[0m=\u001b[32m'teacher'\u001b[0m, \u001b[33minterests\u001b[0m=\u001b[1m[\u001b[0m\u001b[32m'reading'\u001b[0m, \u001b[32m'hiking'\u001b[0m, \u001b[32m'yoga'\u001b[0m\u001b[1m]\u001b[0m\u001b[1m)\u001b[0m,\n",
       "    \u001b[1;35mCitizen\u001b[0m\u001b[1m(\u001b[0m\n",
       "        \u001b[33mname\u001b[0m=\u001b[32m'Petro Shevchenko'\u001b[0m,\n",
       "        \u001b[33mage\u001b[0m=\u001b[1;36m48\u001b[0m,\n",
       "        \u001b[33moccupation\u001b[0m=\u001b[32m'engineer'\u001b[0m,\n",
       "        \u001b[33minterests\u001b[0m=\u001b[1m[\u001b[0m\u001b[32m'programming'\u001b[0m, \u001b[32m'cycling'\u001b[0m, \u001b[32m'photography'\u001b[0m\u001b[1m]\u001b[0m\n",
       "    \u001b[1m)\u001b[0m,\n",
       "    \u001b[1;35mCitizen\u001b[0m\u001b[1m(\u001b[0m\u001b[33mname\u001b[0m=\u001b[32m'Olena Kovalenko'\u001b[0m, \u001b[33mage\u001b[0m=\u001b[1;36m28\u001b[0m, \u001b[33moccupation\u001b[0m=\u001b[32m'doctor'\u001b[0m, \u001b[33minterests\u001b[0m=\u001b[1m[\u001b[0m\u001b[32m'medicine'\u001b[0m, \u001b[32m'traveling'\u001b[0m, \u001b[32m'dancing'\u001b[0m\u001b[1m]\u001b[0m\u001b[1m)\u001b[0m,\n",
       "    \u001b[1;35mCitizen\u001b[0m\u001b[1m(\u001b[0m\u001b[33mname\u001b[0m=\u001b[32m'Andriy Marchenko'\u001b[0m, \u001b[33mage\u001b[0m=\u001b[1;36m55\u001b[0m, \u001b[33moccupation\u001b[0m=\u001b[32m'lawyer'\u001b[0m, \u001b[33minterests\u001b[0m=\u001b[1m[\u001b[0m\u001b[32m'law'\u001b[0m, \u001b[32m'history'\u001b[0m, \u001b[32m'politics'\u001b[0m\u001b[1m]\u001b[0m\u001b[1m)\u001b[0m,\n",
       "    \u001b[1;35mCitizen\u001b[0m\u001b[1m(\u001b[0m\u001b[33mname\u001b[0m=\u001b[32m'Tetiana Hrytsenko'\u001b[0m, \u001b[33mage\u001b[0m=\u001b[1;36m31\u001b[0m, \u001b[33moccupation\u001b[0m=\u001b[32m'scientist'\u001b[0m, \u001b[33minterests\u001b[0m=\u001b[1m[\u001b[0m\u001b[32m'research'\u001b[0m, \u001b[32m'writing'\u001b[0m, \u001b[32m'music'\u001b[0m\u001b[1m]\u001b[0m\u001b[1m)\u001b[0m,\n",
       "    \u001b[1;35mCitizen\u001b[0m\u001b[1m(\u001b[0m\u001b[33mname\u001b[0m=\u001b[32m'Oleh Melnyk'\u001b[0m, \u001b[33mage\u001b[0m=\u001b[1;36m42\u001b[0m, \u001b[33moccupation\u001b[0m=\u001b[32m'artist'\u001b[0m, \u001b[33minterests\u001b[0m=\u001b[1m[\u001b[0m\u001b[32m'painting'\u001b[0m, \u001b[32m'sculpture'\u001b[0m, \u001b[32m'drawing'\u001b[0m\u001b[1m]\u001b[0m\u001b[1m)\u001b[0m,\n",
       "    \u001b[1;35mCitizen\u001b[0m\u001b[1m(\u001b[0m\u001b[33mname\u001b[0m=\u001b[32m'Hanna Zaitseva'\u001b[0m, \u001b[33mage\u001b[0m=\u001b[1;36m24\u001b[0m, \u001b[33moccupation\u001b[0m=\u001b[32m'writer'\u001b[0m, \u001b[33minterests\u001b[0m=\u001b[1m[\u001b[0m\u001b[32m'literature'\u001b[0m, \u001b[32m'poetry'\u001b[0m, \u001b[32m'theater'\u001b[0m\u001b[1m]\u001b[0m\u001b[1m)\u001b[0m,\n",
       "    \u001b[1;35mCitizen\u001b[0m\u001b[1m(\u001b[0m\n",
       "        \u001b[33mname\u001b[0m=\u001b[32m'Serhiy Kuzmenko'\u001b[0m,\n",
       "        \u001b[33mage\u001b[0m=\u001b[1;36m68\u001b[0m,\n",
       "        \u001b[33moccupation\u001b[0m=\u001b[32m'gardener'\u001b[0m,\n",
       "        \u001b[33minterests\u001b[0m=\u001b[1m[\u001b[0m\u001b[32m'gardening'\u001b[0m, \u001b[32m'birdwatching'\u001b[0m, \u001b[32m'fishing'\u001b[0m\u001b[1m]\u001b[0m\n",
       "    \u001b[1m)\u001b[0m,\n",
       "    \u001b[1;35mCitizen\u001b[0m\u001b[1m(\u001b[0m\n",
       "        \u001b[33mname\u001b[0m=\u001b[32m'Nataliia Levchenko'\u001b[0m,\n",
       "        \u001b[33mage\u001b[0m=\u001b[1;36m45\u001b[0m,\n",
       "        \u001b[33moccupation\u001b[0m=\u001b[32m'other'\u001b[0m,\n",
       "        \u001b[33minterests\u001b[0m=\u001b[1m[\u001b[0m\u001b[32m'sewing'\u001b[0m, \u001b[32m'cooking'\u001b[0m, \u001b[32m'volunteering'\u001b[0m\u001b[1m]\u001b[0m\n",
       "    \u001b[1m)\u001b[0m\n",
       "\u001b[1m]\u001b[0m\n"
      ]
     },
     "metadata": {},
     "output_type": "display_data"
    }
   ],
   "source": [
    "\n",
    "# A vygenerujeme nějaké obyvatele\n",
    "citizens = client.chat.completions.create(\n",
    "    messages=[\n",
    "        {\"role\": \"user\", \"content\": \"Generate 10 citizens of Semilhotka.\"},\n",
    "    ],\n",
    "    response_model=list[Citizen],\n",
    ")\n",
    "print(citizens)"
   ]
  },
  {
   "cell_type": "markdown",
   "metadata": {},
   "source": [
    "Ideálně bychom chtěli, aby výčet kulminoval objektem Semilhotka:\n",
    "\n",
    "```python\n",
    "from pydantic import BaseModel\n",
    "\n",
    "class Semilhotka(BaseModel):\n",
    "    citizens: list[Citizen]\n",
    "    # a další atributy\n",
    "\n",
    "my_semilhotka = Semilhotka(\n",
    "    citizens=citizens,\n",
    "    # a další proměnné, které jste si vygenerovali\n",
    ")\n",
    "```"
   ]
  },
  {
   "cell_type": "code",
   "execution_count": 8,
   "metadata": {},
   "outputs": [],
   "source": [
    "# Zde řešte úkol 2. (Můžete si vytvořit i více buněk!)\n",
    "class Building(BaseModel):\n",
    "    name: str\n",
    "    type: Literal[\"house\", \"school\", \"hospital\", \"police_station\", \"church\", \"town_hall\", \"park\", \"cemetery\"]\n",
    "    address: str\n",
    "\n",
    "buildings = client.chat.completions.create(\n",
    "    messages=[\n",
    "        {\"role\": \"user\", \"content\": \"Generate 5 buildings in Semilhotka.\"},\n",
    "    ],\n",
    "    response_model=list[Building],\n",
    ")\n"
   ]
  },
  {
   "cell_type": "code",
   "execution_count": 9,
   "metadata": {},
   "outputs": [
    {
     "data": {
      "text/html": [
       "<pre style=\"white-space:pre;overflow-x:auto;line-height:normal;font-family:Menlo,'DejaVu Sans Mono',consolas,'Courier New',monospace\"><span style=\"color: #800080; text-decoration-color: #800080; font-weight: bold\">Semilhotka</span><span style=\"font-weight: bold\">(</span>\n",
       "    <span style=\"color: #808000; text-decoration-color: #808000\">citizens</span>=<span style=\"font-weight: bold\">[</span>\n",
       "        <span style=\"color: #800080; text-decoration-color: #800080; font-weight: bold\">Citizen</span><span style=\"font-weight: bold\">(</span>\n",
       "            <span style=\"color: #808000; text-decoration-color: #808000\">name</span>=<span style=\"color: #008000; text-decoration-color: #008000\">'Vasyl Romanov'</span>,\n",
       "            <span style=\"color: #808000; text-decoration-color: #808000\">age</span>=<span style=\"color: #008080; text-decoration-color: #008080; font-weight: bold\">62</span>,\n",
       "            <span style=\"color: #808000; text-decoration-color: #808000\">occupation</span>=<span style=\"color: #008000; text-decoration-color: #008000\">'pensioner'</span>,\n",
       "            <span style=\"color: #808000; text-decoration-color: #808000\">interests</span>=<span style=\"font-weight: bold\">[</span><span style=\"color: #008000; text-decoration-color: #008000\">'fishing'</span>, <span style=\"color: #008000; text-decoration-color: #008000\">'gardening'</span>, <span style=\"color: #008000; text-decoration-color: #008000\">'chess'</span><span style=\"font-weight: bold\">]</span>\n",
       "        <span style=\"font-weight: bold\">)</span>,\n",
       "        <span style=\"color: #800080; text-decoration-color: #800080; font-weight: bold\">Citizen</span><span style=\"font-weight: bold\">(</span><span style=\"color: #808000; text-decoration-color: #808000\">name</span>=<span style=\"color: #008000; text-decoration-color: #008000\">'Iryna Petrenko'</span>, <span style=\"color: #808000; text-decoration-color: #808000\">age</span>=<span style=\"color: #008080; text-decoration-color: #008080; font-weight: bold\">35</span>, <span style=\"color: #808000; text-decoration-color: #808000\">occupation</span>=<span style=\"color: #008000; text-decoration-color: #008000\">'teacher'</span>, <span style=\"color: #808000; text-decoration-color: #808000\">interests</span>=<span style=\"font-weight: bold\">[</span><span style=\"color: #008000; text-decoration-color: #008000\">'reading'</span>, <span style=\"color: #008000; text-decoration-color: #008000\">'hiking'</span>, <span style=\"color: #008000; text-decoration-color: #008000\">'yoga'</span><span style=\"font-weight: bold\">])</span>,\n",
       "        <span style=\"color: #800080; text-decoration-color: #800080; font-weight: bold\">Citizen</span><span style=\"font-weight: bold\">(</span>\n",
       "            <span style=\"color: #808000; text-decoration-color: #808000\">name</span>=<span style=\"color: #008000; text-decoration-color: #008000\">'Petro Shevchenko'</span>,\n",
       "            <span style=\"color: #808000; text-decoration-color: #808000\">age</span>=<span style=\"color: #008080; text-decoration-color: #008080; font-weight: bold\">48</span>,\n",
       "            <span style=\"color: #808000; text-decoration-color: #808000\">occupation</span>=<span style=\"color: #008000; text-decoration-color: #008000\">'engineer'</span>,\n",
       "            <span style=\"color: #808000; text-decoration-color: #808000\">interests</span>=<span style=\"font-weight: bold\">[</span><span style=\"color: #008000; text-decoration-color: #008000\">'programming'</span>, <span style=\"color: #008000; text-decoration-color: #008000\">'cycling'</span>, <span style=\"color: #008000; text-decoration-color: #008000\">'photography'</span><span style=\"font-weight: bold\">]</span>\n",
       "        <span style=\"font-weight: bold\">)</span>,\n",
       "        <span style=\"color: #800080; text-decoration-color: #800080; font-weight: bold\">Citizen</span><span style=\"font-weight: bold\">(</span>\n",
       "            <span style=\"color: #808000; text-decoration-color: #808000\">name</span>=<span style=\"color: #008000; text-decoration-color: #008000\">'Olena Kovalenko'</span>,\n",
       "            <span style=\"color: #808000; text-decoration-color: #808000\">age</span>=<span style=\"color: #008080; text-decoration-color: #008080; font-weight: bold\">28</span>,\n",
       "            <span style=\"color: #808000; text-decoration-color: #808000\">occupation</span>=<span style=\"color: #008000; text-decoration-color: #008000\">'doctor'</span>,\n",
       "            <span style=\"color: #808000; text-decoration-color: #808000\">interests</span>=<span style=\"font-weight: bold\">[</span><span style=\"color: #008000; text-decoration-color: #008000\">'medicine'</span>, <span style=\"color: #008000; text-decoration-color: #008000\">'traveling'</span>, <span style=\"color: #008000; text-decoration-color: #008000\">'dancing'</span><span style=\"font-weight: bold\">]</span>\n",
       "        <span style=\"font-weight: bold\">)</span>,\n",
       "        <span style=\"color: #800080; text-decoration-color: #800080; font-weight: bold\">Citizen</span><span style=\"font-weight: bold\">(</span><span style=\"color: #808000; text-decoration-color: #808000\">name</span>=<span style=\"color: #008000; text-decoration-color: #008000\">'Andriy Marchenko'</span>, <span style=\"color: #808000; text-decoration-color: #808000\">age</span>=<span style=\"color: #008080; text-decoration-color: #008080; font-weight: bold\">55</span>, <span style=\"color: #808000; text-decoration-color: #808000\">occupation</span>=<span style=\"color: #008000; text-decoration-color: #008000\">'lawyer'</span>, <span style=\"color: #808000; text-decoration-color: #808000\">interests</span>=<span style=\"font-weight: bold\">[</span><span style=\"color: #008000; text-decoration-color: #008000\">'law'</span>, <span style=\"color: #008000; text-decoration-color: #008000\">'history'</span>, <span style=\"color: #008000; text-decoration-color: #008000\">'politics'</span><span style=\"font-weight: bold\">])</span>,\n",
       "        <span style=\"color: #800080; text-decoration-color: #800080; font-weight: bold\">Citizen</span><span style=\"font-weight: bold\">(</span>\n",
       "            <span style=\"color: #808000; text-decoration-color: #808000\">name</span>=<span style=\"color: #008000; text-decoration-color: #008000\">'Tetiana Hrytsenko'</span>,\n",
       "            <span style=\"color: #808000; text-decoration-color: #808000\">age</span>=<span style=\"color: #008080; text-decoration-color: #008080; font-weight: bold\">31</span>,\n",
       "            <span style=\"color: #808000; text-decoration-color: #808000\">occupation</span>=<span style=\"color: #008000; text-decoration-color: #008000\">'scientist'</span>,\n",
       "            <span style=\"color: #808000; text-decoration-color: #808000\">interests</span>=<span style=\"font-weight: bold\">[</span><span style=\"color: #008000; text-decoration-color: #008000\">'research'</span>, <span style=\"color: #008000; text-decoration-color: #008000\">'writing'</span>, <span style=\"color: #008000; text-decoration-color: #008000\">'music'</span><span style=\"font-weight: bold\">]</span>\n",
       "        <span style=\"font-weight: bold\">)</span>,\n",
       "        <span style=\"color: #800080; text-decoration-color: #800080; font-weight: bold\">Citizen</span><span style=\"font-weight: bold\">(</span><span style=\"color: #808000; text-decoration-color: #808000\">name</span>=<span style=\"color: #008000; text-decoration-color: #008000\">'Oleh Melnyk'</span>, <span style=\"color: #808000; text-decoration-color: #808000\">age</span>=<span style=\"color: #008080; text-decoration-color: #008080; font-weight: bold\">42</span>, <span style=\"color: #808000; text-decoration-color: #808000\">occupation</span>=<span style=\"color: #008000; text-decoration-color: #008000\">'artist'</span>, <span style=\"color: #808000; text-decoration-color: #808000\">interests</span>=<span style=\"font-weight: bold\">[</span><span style=\"color: #008000; text-decoration-color: #008000\">'painting'</span>, <span style=\"color: #008000; text-decoration-color: #008000\">'sculpture'</span>, <span style=\"color: #008000; text-decoration-color: #008000\">'drawing'</span><span style=\"font-weight: bold\">])</span>,\n",
       "        <span style=\"color: #800080; text-decoration-color: #800080; font-weight: bold\">Citizen</span><span style=\"font-weight: bold\">(</span>\n",
       "            <span style=\"color: #808000; text-decoration-color: #808000\">name</span>=<span style=\"color: #008000; text-decoration-color: #008000\">'Hanna Zaitseva'</span>,\n",
       "            <span style=\"color: #808000; text-decoration-color: #808000\">age</span>=<span style=\"color: #008080; text-decoration-color: #008080; font-weight: bold\">24</span>,\n",
       "            <span style=\"color: #808000; text-decoration-color: #808000\">occupation</span>=<span style=\"color: #008000; text-decoration-color: #008000\">'writer'</span>,\n",
       "            <span style=\"color: #808000; text-decoration-color: #808000\">interests</span>=<span style=\"font-weight: bold\">[</span><span style=\"color: #008000; text-decoration-color: #008000\">'literature'</span>, <span style=\"color: #008000; text-decoration-color: #008000\">'poetry'</span>, <span style=\"color: #008000; text-decoration-color: #008000\">'theater'</span><span style=\"font-weight: bold\">]</span>\n",
       "        <span style=\"font-weight: bold\">)</span>,\n",
       "        <span style=\"color: #800080; text-decoration-color: #800080; font-weight: bold\">Citizen</span><span style=\"font-weight: bold\">(</span>\n",
       "            <span style=\"color: #808000; text-decoration-color: #808000\">name</span>=<span style=\"color: #008000; text-decoration-color: #008000\">'Serhiy Kuzmenko'</span>,\n",
       "            <span style=\"color: #808000; text-decoration-color: #808000\">age</span>=<span style=\"color: #008080; text-decoration-color: #008080; font-weight: bold\">68</span>,\n",
       "            <span style=\"color: #808000; text-decoration-color: #808000\">occupation</span>=<span style=\"color: #008000; text-decoration-color: #008000\">'gardener'</span>,\n",
       "            <span style=\"color: #808000; text-decoration-color: #808000\">interests</span>=<span style=\"font-weight: bold\">[</span><span style=\"color: #008000; text-decoration-color: #008000\">'gardening'</span>, <span style=\"color: #008000; text-decoration-color: #008000\">'birdwatching'</span>, <span style=\"color: #008000; text-decoration-color: #008000\">'fishing'</span><span style=\"font-weight: bold\">]</span>\n",
       "        <span style=\"font-weight: bold\">)</span>,\n",
       "        <span style=\"color: #800080; text-decoration-color: #800080; font-weight: bold\">Citizen</span><span style=\"font-weight: bold\">(</span>\n",
       "            <span style=\"color: #808000; text-decoration-color: #808000\">name</span>=<span style=\"color: #008000; text-decoration-color: #008000\">'Nataliia Levchenko'</span>,\n",
       "            <span style=\"color: #808000; text-decoration-color: #808000\">age</span>=<span style=\"color: #008080; text-decoration-color: #008080; font-weight: bold\">45</span>,\n",
       "            <span style=\"color: #808000; text-decoration-color: #808000\">occupation</span>=<span style=\"color: #008000; text-decoration-color: #008000\">'other'</span>,\n",
       "            <span style=\"color: #808000; text-decoration-color: #808000\">interests</span>=<span style=\"font-weight: bold\">[</span><span style=\"color: #008000; text-decoration-color: #008000\">'sewing'</span>, <span style=\"color: #008000; text-decoration-color: #008000\">'cooking'</span>, <span style=\"color: #008000; text-decoration-color: #008000\">'volunteering'</span><span style=\"font-weight: bold\">]</span>\n",
       "        <span style=\"font-weight: bold\">)</span>\n",
       "    <span style=\"font-weight: bold\">]</span>,\n",
       "    <span style=\"color: #808000; text-decoration-color: #808000\">mayor</span>=<span style=\"color: #800080; text-decoration-color: #800080; font-weight: bold\">Citizen</span><span style=\"font-weight: bold\">(</span>\n",
       "        <span style=\"color: #808000; text-decoration-color: #808000\">name</span>=<span style=\"color: #008000; text-decoration-color: #008000\">'Vasyl Romanov'</span>,\n",
       "        <span style=\"color: #808000; text-decoration-color: #808000\">age</span>=<span style=\"color: #008080; text-decoration-color: #008080; font-weight: bold\">62</span>,\n",
       "        <span style=\"color: #808000; text-decoration-color: #808000\">occupation</span>=<span style=\"color: #008000; text-decoration-color: #008000\">'pensioner'</span>,\n",
       "        <span style=\"color: #808000; text-decoration-color: #808000\">interests</span>=<span style=\"font-weight: bold\">[</span><span style=\"color: #008000; text-decoration-color: #008000\">'fishing'</span>, <span style=\"color: #008000; text-decoration-color: #008000\">'gardening'</span>, <span style=\"color: #008000; text-decoration-color: #008000\">'chess'</span><span style=\"font-weight: bold\">]</span>\n",
       "    <span style=\"font-weight: bold\">)</span>,\n",
       "    <span style=\"color: #808000; text-decoration-color: #808000\">buildings</span>=<span style=\"font-weight: bold\">[</span>\n",
       "        <span style=\"color: #800080; text-decoration-color: #800080; font-weight: bold\">Building</span><span style=\"font-weight: bold\">(</span><span style=\"color: #808000; text-decoration-color: #808000\">name</span>=<span style=\"color: #008000; text-decoration-color: #008000\">'Semilhotka Primary School'</span>, <span style=\"color: #808000; text-decoration-color: #808000\">type</span>=<span style=\"color: #008000; text-decoration-color: #008000\">'school'</span>, <span style=\"color: #808000; text-decoration-color: #808000\">address</span>=<span style=\"color: #008000; text-decoration-color: #008000\">'123 School St, Semilhotka'</span><span style=\"font-weight: bold\">)</span>,\n",
       "        <span style=\"color: #800080; text-decoration-color: #800080; font-weight: bold\">Building</span><span style=\"font-weight: bold\">(</span><span style=\"color: #808000; text-decoration-color: #808000\">name</span>=<span style=\"color: #008000; text-decoration-color: #008000\">\"St. Michael's Church\"</span>, <span style=\"color: #808000; text-decoration-color: #808000\">type</span>=<span style=\"color: #008000; text-decoration-color: #008000\">'church'</span>, <span style=\"color: #808000; text-decoration-color: #808000\">address</span>=<span style=\"color: #008000; text-decoration-color: #008000\">'456 Church Ln, Semilhotka'</span><span style=\"font-weight: bold\">)</span>,\n",
       "        <span style=\"color: #800080; text-decoration-color: #800080; font-weight: bold\">Building</span><span style=\"font-weight: bold\">(</span><span style=\"color: #808000; text-decoration-color: #808000\">name</span>=<span style=\"color: #008000; text-decoration-color: #008000\">'Semilhotka Town Hall'</span>, <span style=\"color: #808000; text-decoration-color: #808000\">type</span>=<span style=\"color: #008000; text-decoration-color: #008000\">'town_hall'</span>, <span style=\"color: #808000; text-decoration-color: #808000\">address</span>=<span style=\"color: #008000; text-decoration-color: #008000\">'789 Main St, Semilhotka'</span><span style=\"font-weight: bold\">)</span>,\n",
       "        <span style=\"color: #800080; text-decoration-color: #800080; font-weight: bold\">Building</span><span style=\"font-weight: bold\">(</span><span style=\"color: #808000; text-decoration-color: #808000\">name</span>=<span style=\"color: #008000; text-decoration-color: #008000\">'Semilhotka General Hospital'</span>, <span style=\"color: #808000; text-decoration-color: #808000\">type</span>=<span style=\"color: #008000; text-decoration-color: #008000\">'hospital'</span>, <span style=\"color: #808000; text-decoration-color: #808000\">address</span>=<span style=\"color: #008000; text-decoration-color: #008000\">'101 Hospital Rd, Semilhotka'</span><span style=\"font-weight: bold\">)</span>,\n",
       "        <span style=\"color: #800080; text-decoration-color: #800080; font-weight: bold\">Building</span><span style=\"font-weight: bold\">(</span><span style=\"color: #808000; text-decoration-color: #808000\">name</span>=<span style=\"color: #008000; text-decoration-color: #008000\">'Oakhaven Cemetery'</span>, <span style=\"color: #808000; text-decoration-color: #808000\">type</span>=<span style=\"color: #008000; text-decoration-color: #008000\">'cemetery'</span>, <span style=\"color: #808000; text-decoration-color: #808000\">address</span>=<span style=\"color: #008000; text-decoration-color: #008000\">'222 Oak Ave, Semilhotka'</span><span style=\"font-weight: bold\">)</span>\n",
       "    <span style=\"font-weight: bold\">]</span>\n",
       "<span style=\"font-weight: bold\">)</span>\n",
       "</pre>\n"
      ],
      "text/plain": [
       "\u001b[1;35mSemilhotka\u001b[0m\u001b[1m(\u001b[0m\n",
       "    \u001b[33mcitizens\u001b[0m=\u001b[1m[\u001b[0m\n",
       "        \u001b[1;35mCitizen\u001b[0m\u001b[1m(\u001b[0m\n",
       "            \u001b[33mname\u001b[0m=\u001b[32m'Vasyl Romanov'\u001b[0m,\n",
       "            \u001b[33mage\u001b[0m=\u001b[1;36m62\u001b[0m,\n",
       "            \u001b[33moccupation\u001b[0m=\u001b[32m'pensioner'\u001b[0m,\n",
       "            \u001b[33minterests\u001b[0m=\u001b[1m[\u001b[0m\u001b[32m'fishing'\u001b[0m, \u001b[32m'gardening'\u001b[0m, \u001b[32m'chess'\u001b[0m\u001b[1m]\u001b[0m\n",
       "        \u001b[1m)\u001b[0m,\n",
       "        \u001b[1;35mCitizen\u001b[0m\u001b[1m(\u001b[0m\u001b[33mname\u001b[0m=\u001b[32m'Iryna Petrenko'\u001b[0m, \u001b[33mage\u001b[0m=\u001b[1;36m35\u001b[0m, \u001b[33moccupation\u001b[0m=\u001b[32m'teacher'\u001b[0m, \u001b[33minterests\u001b[0m=\u001b[1m[\u001b[0m\u001b[32m'reading'\u001b[0m, \u001b[32m'hiking'\u001b[0m, \u001b[32m'yoga'\u001b[0m\u001b[1m]\u001b[0m\u001b[1m)\u001b[0m,\n",
       "        \u001b[1;35mCitizen\u001b[0m\u001b[1m(\u001b[0m\n",
       "            \u001b[33mname\u001b[0m=\u001b[32m'Petro Shevchenko'\u001b[0m,\n",
       "            \u001b[33mage\u001b[0m=\u001b[1;36m48\u001b[0m,\n",
       "            \u001b[33moccupation\u001b[0m=\u001b[32m'engineer'\u001b[0m,\n",
       "            \u001b[33minterests\u001b[0m=\u001b[1m[\u001b[0m\u001b[32m'programming'\u001b[0m, \u001b[32m'cycling'\u001b[0m, \u001b[32m'photography'\u001b[0m\u001b[1m]\u001b[0m\n",
       "        \u001b[1m)\u001b[0m,\n",
       "        \u001b[1;35mCitizen\u001b[0m\u001b[1m(\u001b[0m\n",
       "            \u001b[33mname\u001b[0m=\u001b[32m'Olena Kovalenko'\u001b[0m,\n",
       "            \u001b[33mage\u001b[0m=\u001b[1;36m28\u001b[0m,\n",
       "            \u001b[33moccupation\u001b[0m=\u001b[32m'doctor'\u001b[0m,\n",
       "            \u001b[33minterests\u001b[0m=\u001b[1m[\u001b[0m\u001b[32m'medicine'\u001b[0m, \u001b[32m'traveling'\u001b[0m, \u001b[32m'dancing'\u001b[0m\u001b[1m]\u001b[0m\n",
       "        \u001b[1m)\u001b[0m,\n",
       "        \u001b[1;35mCitizen\u001b[0m\u001b[1m(\u001b[0m\u001b[33mname\u001b[0m=\u001b[32m'Andriy Marchenko'\u001b[0m, \u001b[33mage\u001b[0m=\u001b[1;36m55\u001b[0m, \u001b[33moccupation\u001b[0m=\u001b[32m'lawyer'\u001b[0m, \u001b[33minterests\u001b[0m=\u001b[1m[\u001b[0m\u001b[32m'law'\u001b[0m, \u001b[32m'history'\u001b[0m, \u001b[32m'politics'\u001b[0m\u001b[1m]\u001b[0m\u001b[1m)\u001b[0m,\n",
       "        \u001b[1;35mCitizen\u001b[0m\u001b[1m(\u001b[0m\n",
       "            \u001b[33mname\u001b[0m=\u001b[32m'Tetiana Hrytsenko'\u001b[0m,\n",
       "            \u001b[33mage\u001b[0m=\u001b[1;36m31\u001b[0m,\n",
       "            \u001b[33moccupation\u001b[0m=\u001b[32m'scientist'\u001b[0m,\n",
       "            \u001b[33minterests\u001b[0m=\u001b[1m[\u001b[0m\u001b[32m'research'\u001b[0m, \u001b[32m'writing'\u001b[0m, \u001b[32m'music'\u001b[0m\u001b[1m]\u001b[0m\n",
       "        \u001b[1m)\u001b[0m,\n",
       "        \u001b[1;35mCitizen\u001b[0m\u001b[1m(\u001b[0m\u001b[33mname\u001b[0m=\u001b[32m'Oleh Melnyk'\u001b[0m, \u001b[33mage\u001b[0m=\u001b[1;36m42\u001b[0m, \u001b[33moccupation\u001b[0m=\u001b[32m'artist'\u001b[0m, \u001b[33minterests\u001b[0m=\u001b[1m[\u001b[0m\u001b[32m'painting'\u001b[0m, \u001b[32m'sculpture'\u001b[0m, \u001b[32m'drawing'\u001b[0m\u001b[1m]\u001b[0m\u001b[1m)\u001b[0m,\n",
       "        \u001b[1;35mCitizen\u001b[0m\u001b[1m(\u001b[0m\n",
       "            \u001b[33mname\u001b[0m=\u001b[32m'Hanna Zaitseva'\u001b[0m,\n",
       "            \u001b[33mage\u001b[0m=\u001b[1;36m24\u001b[0m,\n",
       "            \u001b[33moccupation\u001b[0m=\u001b[32m'writer'\u001b[0m,\n",
       "            \u001b[33minterests\u001b[0m=\u001b[1m[\u001b[0m\u001b[32m'literature'\u001b[0m, \u001b[32m'poetry'\u001b[0m, \u001b[32m'theater'\u001b[0m\u001b[1m]\u001b[0m\n",
       "        \u001b[1m)\u001b[0m,\n",
       "        \u001b[1;35mCitizen\u001b[0m\u001b[1m(\u001b[0m\n",
       "            \u001b[33mname\u001b[0m=\u001b[32m'Serhiy Kuzmenko'\u001b[0m,\n",
       "            \u001b[33mage\u001b[0m=\u001b[1;36m68\u001b[0m,\n",
       "            \u001b[33moccupation\u001b[0m=\u001b[32m'gardener'\u001b[0m,\n",
       "            \u001b[33minterests\u001b[0m=\u001b[1m[\u001b[0m\u001b[32m'gardening'\u001b[0m, \u001b[32m'birdwatching'\u001b[0m, \u001b[32m'fishing'\u001b[0m\u001b[1m]\u001b[0m\n",
       "        \u001b[1m)\u001b[0m,\n",
       "        \u001b[1;35mCitizen\u001b[0m\u001b[1m(\u001b[0m\n",
       "            \u001b[33mname\u001b[0m=\u001b[32m'Nataliia Levchenko'\u001b[0m,\n",
       "            \u001b[33mage\u001b[0m=\u001b[1;36m45\u001b[0m,\n",
       "            \u001b[33moccupation\u001b[0m=\u001b[32m'other'\u001b[0m,\n",
       "            \u001b[33minterests\u001b[0m=\u001b[1m[\u001b[0m\u001b[32m'sewing'\u001b[0m, \u001b[32m'cooking'\u001b[0m, \u001b[32m'volunteering'\u001b[0m\u001b[1m]\u001b[0m\n",
       "        \u001b[1m)\u001b[0m\n",
       "    \u001b[1m]\u001b[0m,\n",
       "    \u001b[33mmayor\u001b[0m=\u001b[1;35mCitizen\u001b[0m\u001b[1m(\u001b[0m\n",
       "        \u001b[33mname\u001b[0m=\u001b[32m'Vasyl Romanov'\u001b[0m,\n",
       "        \u001b[33mage\u001b[0m=\u001b[1;36m62\u001b[0m,\n",
       "        \u001b[33moccupation\u001b[0m=\u001b[32m'pensioner'\u001b[0m,\n",
       "        \u001b[33minterests\u001b[0m=\u001b[1m[\u001b[0m\u001b[32m'fishing'\u001b[0m, \u001b[32m'gardening'\u001b[0m, \u001b[32m'chess'\u001b[0m\u001b[1m]\u001b[0m\n",
       "    \u001b[1m)\u001b[0m,\n",
       "    \u001b[33mbuildings\u001b[0m=\u001b[1m[\u001b[0m\n",
       "        \u001b[1;35mBuilding\u001b[0m\u001b[1m(\u001b[0m\u001b[33mname\u001b[0m=\u001b[32m'Semilhotka Primary School'\u001b[0m, \u001b[33mtype\u001b[0m=\u001b[32m'school'\u001b[0m, \u001b[33maddress\u001b[0m=\u001b[32m'123 School St, Semilhotka'\u001b[0m\u001b[1m)\u001b[0m,\n",
       "        \u001b[1;35mBuilding\u001b[0m\u001b[1m(\u001b[0m\u001b[33mname\u001b[0m=\u001b[32m\"St\u001b[0m\u001b[32m. Michael's Church\"\u001b[0m, \u001b[33mtype\u001b[0m=\u001b[32m'church'\u001b[0m, \u001b[33maddress\u001b[0m=\u001b[32m'456 Church Ln, Semilhotka'\u001b[0m\u001b[1m)\u001b[0m,\n",
       "        \u001b[1;35mBuilding\u001b[0m\u001b[1m(\u001b[0m\u001b[33mname\u001b[0m=\u001b[32m'Semilhotka Town Hall'\u001b[0m, \u001b[33mtype\u001b[0m=\u001b[32m'town_hall'\u001b[0m, \u001b[33maddress\u001b[0m=\u001b[32m'789 Main St, Semilhotka'\u001b[0m\u001b[1m)\u001b[0m,\n",
       "        \u001b[1;35mBuilding\u001b[0m\u001b[1m(\u001b[0m\u001b[33mname\u001b[0m=\u001b[32m'Semilhotka General Hospital'\u001b[0m, \u001b[33mtype\u001b[0m=\u001b[32m'hospital'\u001b[0m, \u001b[33maddress\u001b[0m=\u001b[32m'101 Hospital Rd, Semilhotka'\u001b[0m\u001b[1m)\u001b[0m,\n",
       "        \u001b[1;35mBuilding\u001b[0m\u001b[1m(\u001b[0m\u001b[33mname\u001b[0m=\u001b[32m'Oakhaven Cemetery'\u001b[0m, \u001b[33mtype\u001b[0m=\u001b[32m'cemetery'\u001b[0m, \u001b[33maddress\u001b[0m=\u001b[32m'222 Oak Ave, Semilhotka'\u001b[0m\u001b[1m)\u001b[0m\n",
       "    \u001b[1m]\u001b[0m\n",
       "\u001b[1m)\u001b[0m\n"
      ]
     },
     "metadata": {},
     "output_type": "display_data"
    }
   ],
   "source": [
    "\n",
    "class Semilhotka(BaseModel):\n",
    "    citizens: list[Citizen]\n",
    "    mayor: Citizen\n",
    "    buildings: list[Building]\n",
    "\n",
    "my_semilhotka = Semilhotka(\n",
    "    citizens=citizens,\n",
    "    mayor=citizens[0],\n",
    "    buildings=buildings,\n",
    ")\n",
    "print(my_semilhotka)"
   ]
  },
  {
   "cell_type": "markdown",
   "metadata": {},
   "source": [
    "## Export dat\n",
    "\n",
    "Pro jednoduchost si vaši vesnici exportujeme jako Python pickle soubor. Ten si potom z levého panelu můžete stáhnout a použít v jiném notebooku (jste-li  v Colabu)."
   ]
  },
  {
   "cell_type": "code",
   "execution_count": 10,
   "metadata": {},
   "outputs": [],
   "source": [
    "from pickle import dump\n",
    "\n",
    "try:\n",
    "    if my_semilhotka:\n",
    "        with open(\"semilhotka.pkl\", \"wb\") as f:\n",
    "            dump(my_semilhotka, f)\n",
    "except NameError:\n",
    "    raise ValueError(\"Musíte si nejdříve nadefinovat Semilhotku a přiřadit ji do proménně!\")\n"
   ]
  }
 ],
 "metadata": {
  "kernelspec": {
   "display_name": ".venv",
   "language": "python",
   "name": "python3"
  },
  "language_info": {
   "codemirror_mode": {
    "name": "ipython",
    "version": 3
   },
   "file_extension": ".py",
   "mimetype": "text/x-python",
   "name": "python",
   "nbconvert_exporter": "python",
   "pygments_lexer": "ipython3",
   "version": "3.13.0"
  }
 },
 "nbformat": 4,
 "nbformat_minor": 2
}
